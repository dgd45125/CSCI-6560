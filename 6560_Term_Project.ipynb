{
 "cells": [
  {
   "cell_type": "code",
   "execution_count": 1,
   "metadata": {},
   "outputs": [],
   "source": [
    "#Donald Dunagan\n",
    "#811-648-053\n",
    "#29 September 2018\n",
    "#CSCI 6560 Term Project\n",
    "#The use of evolutionary computation in the\n",
    "#optimization of neural networks"
   ]
  },
  {
   "cell_type": "markdown",
   "metadata": {},
   "source": [
    "# Set Up Environment"
   ]
  },
  {
   "cell_type": "code",
   "execution_count": 1,
   "metadata": {},
   "outputs": [],
   "source": [
    "#imports\n",
    "\n",
    "import numpy as np\n",
    "import pandas as pd\n",
    "from sklearn.neural_network import MLPRegressor\n",
    "from sklearn.utils import shuffle\n",
    "from sklearn.metrics import make_scorer, mean_absolute_error\n",
    "import matplotlib.pyplot as plt\n",
    "from sklearn.model_selection import cross_val_score, GridSearchCV\n",
    "from scipy import stats\n",
    "import random, operator, time, itertools, math, numpy\n",
    "from deap import algorithms, base, creator, tools\n",
    "import warnings"
   ]
  },
  {
   "cell_type": "code",
   "execution_count": 2,
   "metadata": {},
   "outputs": [
    {
     "name": "stdout",
     "output_type": "stream",
     "text": [
      "The shape of the dataframe is: (5875, 22)\n"
     ]
    },
    {
     "data": {
      "text/html": [
       "<div>\n",
       "<style scoped>\n",
       "    .dataframe tbody tr th:only-of-type {\n",
       "        vertical-align: middle;\n",
       "    }\n",
       "\n",
       "    .dataframe tbody tr th {\n",
       "        vertical-align: top;\n",
       "    }\n",
       "\n",
       "    .dataframe thead th {\n",
       "        text-align: right;\n",
       "    }\n",
       "</style>\n",
       "<table border=\"1\" class=\"dataframe\">\n",
       "  <thead>\n",
       "    <tr style=\"text-align: right;\">\n",
       "      <th></th>\n",
       "      <th>subject#</th>\n",
       "      <th>age</th>\n",
       "      <th>sex</th>\n",
       "      <th>test_time</th>\n",
       "      <th>motor_UPDRS</th>\n",
       "      <th>total_UPDRS</th>\n",
       "      <th>Jitter(%)</th>\n",
       "      <th>Jitter(Abs)</th>\n",
       "      <th>Jitter:RAP</th>\n",
       "      <th>Jitter:PPQ5</th>\n",
       "      <th>...</th>\n",
       "      <th>Shimmer(dB)</th>\n",
       "      <th>Shimmer:APQ3</th>\n",
       "      <th>Shimmer:APQ5</th>\n",
       "      <th>Shimmer:APQ11</th>\n",
       "      <th>Shimmer:DDA</th>\n",
       "      <th>NHR</th>\n",
       "      <th>HNR</th>\n",
       "      <th>RPDE</th>\n",
       "      <th>DFA</th>\n",
       "      <th>PPE</th>\n",
       "    </tr>\n",
       "  </thead>\n",
       "  <tbody>\n",
       "    <tr>\n",
       "      <th>0</th>\n",
       "      <td>1</td>\n",
       "      <td>72</td>\n",
       "      <td>0</td>\n",
       "      <td>5.6431</td>\n",
       "      <td>28.199</td>\n",
       "      <td>34.398</td>\n",
       "      <td>0.00662</td>\n",
       "      <td>0.000034</td>\n",
       "      <td>0.00401</td>\n",
       "      <td>0.00317</td>\n",
       "      <td>...</td>\n",
       "      <td>0.230</td>\n",
       "      <td>0.01438</td>\n",
       "      <td>0.01309</td>\n",
       "      <td>0.01662</td>\n",
       "      <td>0.04314</td>\n",
       "      <td>0.014290</td>\n",
       "      <td>21.640</td>\n",
       "      <td>0.41888</td>\n",
       "      <td>0.54842</td>\n",
       "      <td>0.16006</td>\n",
       "    </tr>\n",
       "    <tr>\n",
       "      <th>1</th>\n",
       "      <td>1</td>\n",
       "      <td>72</td>\n",
       "      <td>0</td>\n",
       "      <td>12.6660</td>\n",
       "      <td>28.447</td>\n",
       "      <td>34.894</td>\n",
       "      <td>0.00300</td>\n",
       "      <td>0.000017</td>\n",
       "      <td>0.00132</td>\n",
       "      <td>0.00150</td>\n",
       "      <td>...</td>\n",
       "      <td>0.179</td>\n",
       "      <td>0.00994</td>\n",
       "      <td>0.01072</td>\n",
       "      <td>0.01689</td>\n",
       "      <td>0.02982</td>\n",
       "      <td>0.011112</td>\n",
       "      <td>27.183</td>\n",
       "      <td>0.43493</td>\n",
       "      <td>0.56477</td>\n",
       "      <td>0.10810</td>\n",
       "    </tr>\n",
       "    <tr>\n",
       "      <th>2</th>\n",
       "      <td>1</td>\n",
       "      <td>72</td>\n",
       "      <td>0</td>\n",
       "      <td>19.6810</td>\n",
       "      <td>28.695</td>\n",
       "      <td>35.389</td>\n",
       "      <td>0.00481</td>\n",
       "      <td>0.000025</td>\n",
       "      <td>0.00205</td>\n",
       "      <td>0.00208</td>\n",
       "      <td>...</td>\n",
       "      <td>0.181</td>\n",
       "      <td>0.00734</td>\n",
       "      <td>0.00844</td>\n",
       "      <td>0.01458</td>\n",
       "      <td>0.02202</td>\n",
       "      <td>0.020220</td>\n",
       "      <td>23.047</td>\n",
       "      <td>0.46222</td>\n",
       "      <td>0.54405</td>\n",
       "      <td>0.21014</td>\n",
       "    </tr>\n",
       "    <tr>\n",
       "      <th>3</th>\n",
       "      <td>1</td>\n",
       "      <td>72</td>\n",
       "      <td>0</td>\n",
       "      <td>25.6470</td>\n",
       "      <td>28.905</td>\n",
       "      <td>35.810</td>\n",
       "      <td>0.00528</td>\n",
       "      <td>0.000027</td>\n",
       "      <td>0.00191</td>\n",
       "      <td>0.00264</td>\n",
       "      <td>...</td>\n",
       "      <td>0.327</td>\n",
       "      <td>0.01106</td>\n",
       "      <td>0.01265</td>\n",
       "      <td>0.01963</td>\n",
       "      <td>0.03317</td>\n",
       "      <td>0.027837</td>\n",
       "      <td>24.445</td>\n",
       "      <td>0.48730</td>\n",
       "      <td>0.57794</td>\n",
       "      <td>0.33277</td>\n",
       "    </tr>\n",
       "    <tr>\n",
       "      <th>4</th>\n",
       "      <td>1</td>\n",
       "      <td>72</td>\n",
       "      <td>0</td>\n",
       "      <td>33.6420</td>\n",
       "      <td>29.187</td>\n",
       "      <td>36.375</td>\n",
       "      <td>0.00335</td>\n",
       "      <td>0.000020</td>\n",
       "      <td>0.00093</td>\n",
       "      <td>0.00130</td>\n",
       "      <td>...</td>\n",
       "      <td>0.176</td>\n",
       "      <td>0.00679</td>\n",
       "      <td>0.00929</td>\n",
       "      <td>0.01819</td>\n",
       "      <td>0.02036</td>\n",
       "      <td>0.011625</td>\n",
       "      <td>26.126</td>\n",
       "      <td>0.47188</td>\n",
       "      <td>0.56122</td>\n",
       "      <td>0.19361</td>\n",
       "    </tr>\n",
       "  </tbody>\n",
       "</table>\n",
       "<p>5 rows × 22 columns</p>\n",
       "</div>"
      ],
      "text/plain": [
       "   subject#  age  sex  test_time  motor_UPDRS  total_UPDRS  Jitter(%)  \\\n",
       "0         1   72    0     5.6431       28.199       34.398    0.00662   \n",
       "1         1   72    0    12.6660       28.447       34.894    0.00300   \n",
       "2         1   72    0    19.6810       28.695       35.389    0.00481   \n",
       "3         1   72    0    25.6470       28.905       35.810    0.00528   \n",
       "4         1   72    0    33.6420       29.187       36.375    0.00335   \n",
       "\n",
       "   Jitter(Abs)  Jitter:RAP  Jitter:PPQ5   ...     Shimmer(dB)  Shimmer:APQ3  \\\n",
       "0     0.000034     0.00401      0.00317   ...           0.230       0.01438   \n",
       "1     0.000017     0.00132      0.00150   ...           0.179       0.00994   \n",
       "2     0.000025     0.00205      0.00208   ...           0.181       0.00734   \n",
       "3     0.000027     0.00191      0.00264   ...           0.327       0.01106   \n",
       "4     0.000020     0.00093      0.00130   ...           0.176       0.00679   \n",
       "\n",
       "   Shimmer:APQ5  Shimmer:APQ11  Shimmer:DDA       NHR     HNR     RPDE  \\\n",
       "0       0.01309        0.01662      0.04314  0.014290  21.640  0.41888   \n",
       "1       0.01072        0.01689      0.02982  0.011112  27.183  0.43493   \n",
       "2       0.00844        0.01458      0.02202  0.020220  23.047  0.46222   \n",
       "3       0.01265        0.01963      0.03317  0.027837  24.445  0.48730   \n",
       "4       0.00929        0.01819      0.02036  0.011625  26.126  0.47188   \n",
       "\n",
       "       DFA      PPE  \n",
       "0  0.54842  0.16006  \n",
       "1  0.56477  0.10810  \n",
       "2  0.54405  0.21014  \n",
       "3  0.57794  0.33277  \n",
       "4  0.56122  0.19361  \n",
       "\n",
       "[5 rows x 22 columns]"
      ]
     },
     "execution_count": 2,
     "metadata": {},
     "output_type": "execute_result"
    }
   ],
   "source": [
    "#import Parkinson's Dataset and visualize\n",
    "\n",
    "PDDF =  pd.read_csv(\"C:\\\\Users\\\\gray\\\\Desktop\\\\Evolutionary_Computing\\\\Term_Project\\\\Parkinson's_Data.csv\")\n",
    "print ('The shape of the dataframe is:',PDDF.shape)\n",
    "PDDF.head()"
   ]
  },
  {
   "cell_type": "markdown",
   "metadata": {},
   "source": [
    "#### Initial shuffling and splitting"
   ]
  },
  {
   "cell_type": "code",
   "execution_count": 3,
   "metadata": {},
   "outputs": [],
   "source": [
    "#shuffle the data\n",
    "PDDF = shuffle(PDDF)\n",
    "\n",
    "#isolate features\n",
    "features_to_drop = ['subject#','age','sex','test_time','motor_UPDRS','total_UPDRS']\n",
    "just_features = PDDF.drop(features_to_drop,axis=1)\n",
    "    \n",
    "#isolate motor_UPDRS\n",
    "just_motor = PDDF.motor_UPDRS\n",
    "   \n",
    "#isolate total_UPDRS\n",
    "just_total = PDDF.total_UPDRS\n",
    "\n",
    "#split into training and testing data\n",
    "training_features = just_features[:5287]\n",
    "testing_features = just_features[5287:]\n",
    "    \n",
    "training_motor = just_motor[:5287]\n",
    "testing_motor = just_motor[5287:]\n",
    "    \n",
    "training_total = just_total[:5287]\n",
    "testing_total = just_total[5287:] "
   ]
  },
  {
   "cell_type": "markdown",
   "metadata": {},
   "source": [
    "#### A function for shuffling and splitting the data"
   ]
  },
  {
   "cell_type": "code",
   "execution_count": 4,
   "metadata": {},
   "outputs": [],
   "source": [
    "def shuffleSplit():\n",
    "    '''\n",
    "    Shuffles and splits the DataFrame     \n",
    "    '''\n",
    "    global PDDF\n",
    "    \n",
    "    #shuffle the data\n",
    "    PDDF = shuffle(PDDF)\n",
    "\n",
    "    #isolate features\n",
    "    features_to_drop = ['subject#','age','sex','test_time','motor_UPDRS','total_UPDRS']\n",
    "    global just_features\n",
    "    just_features = PDDF.drop(features_to_drop,axis=1)\n",
    "    \n",
    "    #isolate motor_UPDRS\n",
    "    global just_motor\n",
    "    just_motor = PDDF.motor_UPDRS\n",
    "   \n",
    "    #isolate total_UPDRS\n",
    "    global just_total\n",
    "    just_total = PDDF.total_UPDRS\n",
    "\n",
    "    #split into training and testing data\n",
    "    global training_features\n",
    "    training_features = just_features[:5287]\n",
    "    global testing_features\n",
    "    testing_features = just_features[5287:]\n",
    "    \n",
    "    global training_motor\n",
    "    training_motor = just_motor[:5287]\n",
    "    global testing_motor\n",
    "    testing_motor = just_motor[5287:]\n",
    "    \n",
    "    global training_total\n",
    "    training_total = just_total[:5287]\n",
    "    global testing_total\n",
    "    testing_total = just_total[5287:]  \n",
    "    \n",
    "    return"
   ]
  },
  {
   "cell_type": "code",
   "execution_count": 5,
   "metadata": {},
   "outputs": [],
   "source": [
    "#cross validation needs to return the mean absolute error (MAE) for each fold\n",
    "#so i have to make a custom scoring object\n",
    "\n",
    "#create scorer object\n",
    "myScorer = make_scorer(mean_absolute_error)"
   ]
  },
  {
   "cell_type": "code",
   "execution_count": 6,
   "metadata": {},
   "outputs": [
    {
     "data": {
      "text/html": [
       "<div>\n",
       "<style scoped>\n",
       "    .dataframe tbody tr th:only-of-type {\n",
       "        vertical-align: middle;\n",
       "    }\n",
       "\n",
       "    .dataframe tbody tr th {\n",
       "        vertical-align: top;\n",
       "    }\n",
       "\n",
       "    .dataframe thead th {\n",
       "        text-align: right;\n",
       "    }\n",
       "</style>\n",
       "<table border=\"1\" class=\"dataframe\">\n",
       "  <thead>\n",
       "    <tr style=\"text-align: right;\">\n",
       "      <th></th>\n",
       "      <th>subject#</th>\n",
       "      <th>age</th>\n",
       "      <th>sex</th>\n",
       "      <th>test_time</th>\n",
       "      <th>motor_UPDRS</th>\n",
       "      <th>total_UPDRS</th>\n",
       "      <th>Jitter(%)</th>\n",
       "      <th>Jitter(Abs)</th>\n",
       "      <th>Jitter:RAP</th>\n",
       "      <th>Jitter:PPQ5</th>\n",
       "      <th>...</th>\n",
       "      <th>Shimmer(dB)</th>\n",
       "      <th>Shimmer:APQ3</th>\n",
       "      <th>Shimmer:APQ5</th>\n",
       "      <th>Shimmer:APQ11</th>\n",
       "      <th>Shimmer:DDA</th>\n",
       "      <th>NHR</th>\n",
       "      <th>HNR</th>\n",
       "      <th>RPDE</th>\n",
       "      <th>DFA</th>\n",
       "      <th>PPE</th>\n",
       "    </tr>\n",
       "  </thead>\n",
       "  <tbody>\n",
       "    <tr>\n",
       "      <th>4215</th>\n",
       "      <td>31</td>\n",
       "      <td>75</td>\n",
       "      <td>0</td>\n",
       "      <td>76.348</td>\n",
       "      <td>30.895</td>\n",
       "      <td>33.674</td>\n",
       "      <td>0.01091</td>\n",
       "      <td>0.000075</td>\n",
       "      <td>0.00531</td>\n",
       "      <td>0.00621</td>\n",
       "      <td>...</td>\n",
       "      <td>1.011</td>\n",
       "      <td>0.05176</td>\n",
       "      <td>0.07440</td>\n",
       "      <td>0.09892</td>\n",
       "      <td>0.15529</td>\n",
       "      <td>0.056160</td>\n",
       "      <td>15.339</td>\n",
       "      <td>0.70005</td>\n",
       "      <td>0.77993</td>\n",
       "      <td>0.345170</td>\n",
       "    </tr>\n",
       "    <tr>\n",
       "      <th>618</th>\n",
       "      <td>5</td>\n",
       "      <td>75</td>\n",
       "      <td>0</td>\n",
       "      <td>14.376</td>\n",
       "      <td>31.000</td>\n",
       "      <td>39.469</td>\n",
       "      <td>0.00289</td>\n",
       "      <td>0.000026</td>\n",
       "      <td>0.00124</td>\n",
       "      <td>0.00166</td>\n",
       "      <td>...</td>\n",
       "      <td>0.245</td>\n",
       "      <td>0.01664</td>\n",
       "      <td>0.01923</td>\n",
       "      <td>0.02332</td>\n",
       "      <td>0.04993</td>\n",
       "      <td>0.008739</td>\n",
       "      <td>23.168</td>\n",
       "      <td>0.58170</td>\n",
       "      <td>0.65362</td>\n",
       "      <td>0.143280</td>\n",
       "    </tr>\n",
       "    <tr>\n",
       "      <th>2073</th>\n",
       "      <td>15</td>\n",
       "      <td>65</td>\n",
       "      <td>0</td>\n",
       "      <td>117.520</td>\n",
       "      <td>15.000</td>\n",
       "      <td>20.667</td>\n",
       "      <td>0.00247</td>\n",
       "      <td>0.000014</td>\n",
       "      <td>0.00123</td>\n",
       "      <td>0.00108</td>\n",
       "      <td>...</td>\n",
       "      <td>0.185</td>\n",
       "      <td>0.00977</td>\n",
       "      <td>0.01005</td>\n",
       "      <td>0.01265</td>\n",
       "      <td>0.02930</td>\n",
       "      <td>0.004328</td>\n",
       "      <td>29.212</td>\n",
       "      <td>0.40086</td>\n",
       "      <td>0.60610</td>\n",
       "      <td>0.092811</td>\n",
       "    </tr>\n",
       "    <tr>\n",
       "      <th>3161</th>\n",
       "      <td>23</td>\n",
       "      <td>59</td>\n",
       "      <td>1</td>\n",
       "      <td>51.421</td>\n",
       "      <td>13.574</td>\n",
       "      <td>24.198</td>\n",
       "      <td>0.00403</td>\n",
       "      <td>0.000021</td>\n",
       "      <td>0.00202</td>\n",
       "      <td>0.00221</td>\n",
       "      <td>...</td>\n",
       "      <td>0.187</td>\n",
       "      <td>0.01094</td>\n",
       "      <td>0.01305</td>\n",
       "      <td>0.02010</td>\n",
       "      <td>0.03281</td>\n",
       "      <td>0.009401</td>\n",
       "      <td>22.335</td>\n",
       "      <td>0.51208</td>\n",
       "      <td>0.64130</td>\n",
       "      <td>0.213230</td>\n",
       "    </tr>\n",
       "    <tr>\n",
       "      <th>5660</th>\n",
       "      <td>41</td>\n",
       "      <td>68</td>\n",
       "      <td>1</td>\n",
       "      <td>119.490</td>\n",
       "      <td>37.297</td>\n",
       "      <td>45.438</td>\n",
       "      <td>0.00864</td>\n",
       "      <td>0.000046</td>\n",
       "      <td>0.00435</td>\n",
       "      <td>0.00449</td>\n",
       "      <td>...</td>\n",
       "      <td>0.270</td>\n",
       "      <td>0.01177</td>\n",
       "      <td>0.01267</td>\n",
       "      <td>0.01604</td>\n",
       "      <td>0.03531</td>\n",
       "      <td>0.045779</td>\n",
       "      <td>20.813</td>\n",
       "      <td>0.65126</td>\n",
       "      <td>0.67992</td>\n",
       "      <td>0.370020</td>\n",
       "    </tr>\n",
       "  </tbody>\n",
       "</table>\n",
       "<p>5 rows × 22 columns</p>\n",
       "</div>"
      ],
      "text/plain": [
       "      subject#  age  sex  test_time  motor_UPDRS  total_UPDRS  Jitter(%)  \\\n",
       "4215        31   75    0     76.348       30.895       33.674    0.01091   \n",
       "618          5   75    0     14.376       31.000       39.469    0.00289   \n",
       "2073        15   65    0    117.520       15.000       20.667    0.00247   \n",
       "3161        23   59    1     51.421       13.574       24.198    0.00403   \n",
       "5660        41   68    1    119.490       37.297       45.438    0.00864   \n",
       "\n",
       "      Jitter(Abs)  Jitter:RAP  Jitter:PPQ5    ...     Shimmer(dB)  \\\n",
       "4215     0.000075     0.00531      0.00621    ...           1.011   \n",
       "618      0.000026     0.00124      0.00166    ...           0.245   \n",
       "2073     0.000014     0.00123      0.00108    ...           0.185   \n",
       "3161     0.000021     0.00202      0.00221    ...           0.187   \n",
       "5660     0.000046     0.00435      0.00449    ...           0.270   \n",
       "\n",
       "      Shimmer:APQ3  Shimmer:APQ5  Shimmer:APQ11  Shimmer:DDA       NHR  \\\n",
       "4215       0.05176       0.07440        0.09892      0.15529  0.056160   \n",
       "618        0.01664       0.01923        0.02332      0.04993  0.008739   \n",
       "2073       0.00977       0.01005        0.01265      0.02930  0.004328   \n",
       "3161       0.01094       0.01305        0.02010      0.03281  0.009401   \n",
       "5660       0.01177       0.01267        0.01604      0.03531  0.045779   \n",
       "\n",
       "         HNR     RPDE      DFA       PPE  \n",
       "4215  15.339  0.70005  0.77993  0.345170  \n",
       "618   23.168  0.58170  0.65362  0.143280  \n",
       "2073  29.212  0.40086  0.60610  0.092811  \n",
       "3161  22.335  0.51208  0.64130  0.213230  \n",
       "5660  20.813  0.65126  0.67992  0.370020  \n",
       "\n",
       "[5 rows x 22 columns]"
      ]
     },
     "execution_count": 6,
     "metadata": {},
     "output_type": "execute_result"
    }
   ],
   "source": [
    "PDDF.head()"
   ]
  },
  {
   "cell_type": "code",
   "execution_count": null,
   "metadata": {},
   "outputs": [],
   "source": []
  },
  {
   "cell_type": "code",
   "execution_count": null,
   "metadata": {},
   "outputs": [],
   "source": []
  },
  {
   "cell_type": "code",
   "execution_count": null,
   "metadata": {},
   "outputs": [],
   "source": []
  },
  {
   "cell_type": "code",
   "execution_count": null,
   "metadata": {},
   "outputs": [],
   "source": []
  },
  {
   "cell_type": "code",
   "execution_count": null,
   "metadata": {},
   "outputs": [],
   "source": []
  },
  {
   "cell_type": "code",
   "execution_count": null,
   "metadata": {},
   "outputs": [],
   "source": []
  },
  {
   "cell_type": "markdown",
   "metadata": {},
   "source": [
    "# Scikit Learn MLP"
   ]
  },
  {
   "cell_type": "markdown",
   "metadata": {},
   "source": [
    "## Baselines for untuned, default MLP regressors"
   ]
  },
  {
   "cell_type": "markdown",
   "metadata": {},
   "source": [
    "### 10-fold cross validated training MAE of an untuned MLP regressor targeting motor_UPDRS"
   ]
  },
  {
   "cell_type": "code",
   "execution_count": 36,
   "metadata": {},
   "outputs": [
    {
     "name": "stdout",
     "output_type": "stream",
     "text": [
      "MAE: 6.918117587682678\n"
     ]
    }
   ],
   "source": [
    "#10-fold cross validated untuned MLP targeting motor_UPDRS\n",
    "\n",
    "MLP = MLPRegressor()\n",
    "\n",
    "#10-fold CV\n",
    "vals = cross_val_score(MLP,training_features,training_motor,cv=10, scoring=myScorer)\n",
    "print(\"MAE: {}\".format(vals.mean()))"
   ]
  },
  {
   "cell_type": "markdown",
   "metadata": {},
   "source": [
    "### 10-fold cross validated training MAE of an untuned MLP regressor targeting total_UPDRS"
   ]
  },
  {
   "cell_type": "code",
   "execution_count": 37,
   "metadata": {},
   "outputs": [
    {
     "name": "stdout",
     "output_type": "stream",
     "text": [
      "MAE: 8.66401242526413\n"
     ]
    }
   ],
   "source": [
    "#10-fold cross validated untuned MLP targeting total_UPDRS\n",
    "\n",
    "MLP = MLPRegressor()\n",
    "\n",
    "#10-fold CV\n",
    "vals = cross_val_score(MLP,training_features,training_total,cv=10, scoring=myScorer)\n",
    "print(\"MAE: {}\".format(vals.mean()))"
   ]
  },
  {
   "cell_type": "markdown",
   "metadata": {},
   "source": [
    "### Playing with hidden layers"
   ]
  },
  {
   "cell_type": "markdown",
   "metadata": {},
   "source": [
    "#### \"Rule of thumb\": taking average of input size + output size = 8"
   ]
  },
  {
   "cell_type": "code",
   "execution_count": 31,
   "metadata": {},
   "outputs": [
    {
     "name": "stdout",
     "output_type": "stream",
     "text": [
      "MAE: 8.72974978185929\n"
     ]
    }
   ],
   "source": [
    "#10-fold cross validated MLP targetting total_UPDRS\n",
    "\n",
    "warnings.filterwarnings(\"ignore\")\n",
    "MLP = MLPRegressor(hidden_layer_sizes=(8,))\n",
    "\n",
    "#10-fold CV\n",
    "vals = cross_val_score(MLP,training_features,training_total,cv=5, scoring=myScorer)\n",
    "print(\"MAE: {}\".format(vals.mean()))"
   ]
  },
  {
   "cell_type": "code",
   "execution_count": null,
   "metadata": {},
   "outputs": [],
   "source": []
  },
  {
   "cell_type": "markdown",
   "metadata": {},
   "source": [
    "## Default parameters of MLP"
   ]
  },
  {
   "cell_type": "code",
   "execution_count": 26,
   "metadata": {},
   "outputs": [
    {
     "data": {
      "text/plain": [
       "<bound method BaseEstimator.get_params of MLPRegressor(activation='relu', alpha=0.0001, batch_size='auto', beta_1=0.9,\n",
       "       beta_2=0.999, early_stopping=False, epsilon=1e-08,\n",
       "       hidden_layer_sizes=(100,), learning_rate='constant',\n",
       "       learning_rate_init=0.001, max_iter=200, momentum=0.9,\n",
       "       nesterovs_momentum=True, power_t=0.5, random_state=None,\n",
       "       shuffle=True, solver='adam', tol=0.0001, validation_fraction=0.1,\n",
       "       verbose=False, warm_start=False)>"
      ]
     },
     "execution_count": 26,
     "metadata": {},
     "output_type": "execute_result"
    }
   ],
   "source": [
    "MLP = MLPRegressor()\n",
    "MLP.get_params"
   ]
  },
  {
   "cell_type": "code",
   "execution_count": 31,
   "metadata": {},
   "outputs": [
    {
     "name": "stdout",
     "output_type": "stream",
     "text": [
      "One hidden layer of size 100\n",
      "Widght optimization solver is adam\n",
      "Beta1 = 0.9\n",
      "Beta2 = 0.999\n",
      "Training is not stopped early\n",
      "adam epsilon is 1e-08\n",
      "The learning rate is constant\n",
      "The learning rate is 0.001\n",
      "The maximum number of epochs is 200\n"
     ]
    }
   ],
   "source": [
    "print('One hidden layer of size 100')\n",
    "print('Widght optimization solver is adam')\n",
    "print('Beta1 = 0.9')\n",
    "print('Beta2 = 0.999')\n",
    "print('Training is not stopped early')\n",
    "print('adam epsilon is 1e-08')\n",
    "print('The learning rate is constant')\n",
    "print('The learning rate is 0.001')\n",
    "print('The maximum number of epochs is 200')"
   ]
  },
  {
   "cell_type": "markdown",
   "metadata": {},
   "source": [
    "## Genetic algorithms stuff"
   ]
  },
  {
   "cell_type": "markdown",
   "metadata": {},
   "source": [
    "#### Evaluation Function"
   ]
  },
  {
   "cell_type": "code",
   "execution_count": 11,
   "metadata": {},
   "outputs": [],
   "source": [
    "def evalNN(features, actual, individual):\n",
    "    \"\"\"\n",
    "    Takes the actual UPDRS values (either motor or total) and an np \n",
    "    array of length 145, extracts the weights for layer 2,\n",
    "    the biases for layer 2, the weights for layer 3, and the bias for\n",
    "    layer 3, runs the neural network, and calculates the mean absolute \n",
    "    error between predicted UPDRS and actual UPDRS\n",
    "    \"\"\"\n",
    "    #extract matrices\n",
    "    weights2 = individual[0:128].reshape(16,8)\n",
    "    bias2 = individual[128:136].reshape(8)\n",
    "    \n",
    "    weights3= individual[136:144].reshape(8,1)\n",
    "    bias3 = individual[144]\n",
    "    \n",
    "    \n",
    "    #perform matrix operations that take place inside the \n",
    "    #neural network\n",
    "    \n",
    "    #matrix multiplication between feature matrix and weights of hidden layer\n",
    "    hidden = np.matmul(features,weights2)\n",
    "    #add biases of hidden layer to this\n",
    "    hidden = hidden + bias2\n",
    "    \n",
    "    #perform ReLu activation function\n",
    "    np.maximum(hidden,0,hidden)\n",
    "    \n",
    "    \n",
    "    #matrix multiplication between the result of the hidden layer and \n",
    "    #the weights of the outpul layer\n",
    "    final = np.matmul(hidden,weights3)\n",
    "    #add bias of output layer to this\n",
    "    final = final + bias3\n",
    "    #activation function for output node of regression is linear\n",
    "    #so this is result of the neural network\n",
    "    \n",
    "    #calculate mean absolute error between predicted and actual and return\n",
    "    print (len(final))\n",
    "    \n",
    "    return mean_absolute_error(actual,final)"
   ]
  },
  {
   "cell_type": "code",
   "execution_count": null,
   "metadata": {},
   "outputs": [],
   "source": []
  },
  {
   "cell_type": "code",
   "execution_count": null,
   "metadata": {},
   "outputs": [],
   "source": []
  },
  {
   "cell_type": "code",
   "execution_count": 14,
   "metadata": {},
   "outputs": [
    {
     "name": "stdout",
     "output_type": "stream",
     "text": [
      "5287\n"
     ]
    },
    {
     "data": {
      "text/plain": [
       "13.851140927995356"
      ]
     },
     "execution_count": 14,
     "metadata": {},
     "output_type": "execute_result"
    }
   ],
   "source": [
    "this = np.random.rand(145)\n",
    "evalNN(training_features,training_total,this)"
   ]
  },
  {
   "cell_type": "code",
   "execution_count": null,
   "metadata": {},
   "outputs": [],
   "source": []
  },
  {
   "cell_type": "code",
   "execution_count": null,
   "metadata": {},
   "outputs": [],
   "source": []
  },
  {
   "cell_type": "code",
   "execution_count": null,
   "metadata": {},
   "outputs": [],
   "source": []
  },
  {
   "cell_type": "markdown",
   "metadata": {},
   "source": [
    "#### Creator"
   ]
  },
  {
   "cell_type": "code",
   "execution_count": 43,
   "metadata": {},
   "outputs": [],
   "source": [
    "#python throws a warning due to an intentional duplicate class\n",
    "\n",
    "warnings.filterwarnings('ignore')\n",
    "\n",
    "#create a fitness is to be minimized\n",
    "creator.create(\"FitnessMin\", base.Fitness, weights=(-1.0,))\n",
    "#define an individual's representation as list\n",
    "creator.create(\"Individual\", list, fitness=creator.FitnessMin)"
   ]
  },
  {
   "cell_type": "code",
   "execution_count": null,
   "metadata": {},
   "outputs": [
    {
     "name": "stderr",
     "output_type": "stream",
     "text": [
      "C:\\Users\\gray\\Anaconda3\\lib\\site-packages\\sklearn\\neural_network\\multilayer_perceptron.py:564: ConvergenceWarning: Stochastic Optimizer: Maximum iterations (1000) reached and the optimization hasn't converged yet.\n",
      "  % self.max_iter, ConvergenceWarning)\n",
      "C:\\Users\\gray\\Anaconda3\\lib\\site-packages\\sklearn\\neural_network\\multilayer_perceptron.py:564: ConvergenceWarning: Stochastic Optimizer: Maximum iterations (1000) reached and the optimization hasn't converged yet.\n",
      "  % self.max_iter, ConvergenceWarning)\n"
     ]
    },
    {
     "name": "stdout",
     "output_type": "stream",
     "text": [
      "1 : 8.818103214026122\n"
     ]
    },
    {
     "name": "stderr",
     "output_type": "stream",
     "text": [
      "C:\\Users\\gray\\Anaconda3\\lib\\site-packages\\sklearn\\neural_network\\multilayer_perceptron.py:564: ConvergenceWarning: Stochastic Optimizer: Maximum iterations (1000) reached and the optimization hasn't converged yet.\n",
      "  % self.max_iter, ConvergenceWarning)\n",
      "C:\\Users\\gray\\Anaconda3\\lib\\site-packages\\sklearn\\neural_network\\multilayer_perceptron.py:564: ConvergenceWarning: Stochastic Optimizer: Maximum iterations (1000) reached and the optimization hasn't converged yet.\n",
      "  % self.max_iter, ConvergenceWarning)\n",
      "C:\\Users\\gray\\Anaconda3\\lib\\site-packages\\sklearn\\neural_network\\multilayer_perceptron.py:564: ConvergenceWarning: Stochastic Optimizer: Maximum iterations (1000) reached and the optimization hasn't converged yet.\n",
      "  % self.max_iter, ConvergenceWarning)\n",
      "C:\\Users\\gray\\Anaconda3\\lib\\site-packages\\sklearn\\neural_network\\multilayer_perceptron.py:564: ConvergenceWarning: Stochastic Optimizer: Maximum iterations (1000) reached and the optimization hasn't converged yet.\n",
      "  % self.max_iter, ConvergenceWarning)\n"
     ]
    },
    {
     "name": "stdout",
     "output_type": "stream",
     "text": [
      "2 : 8.965534527289812\n"
     ]
    },
    {
     "name": "stderr",
     "output_type": "stream",
     "text": [
      "C:\\Users\\gray\\Anaconda3\\lib\\site-packages\\sklearn\\neural_network\\multilayer_perceptron.py:564: ConvergenceWarning: Stochastic Optimizer: Maximum iterations (1000) reached and the optimization hasn't converged yet.\n",
      "  % self.max_iter, ConvergenceWarning)\n"
     ]
    },
    {
     "name": "stdout",
     "output_type": "stream",
     "text": [
      "3 : 8.779879675671229\n"
     ]
    },
    {
     "name": "stderr",
     "output_type": "stream",
     "text": [
      "C:\\Users\\gray\\Anaconda3\\lib\\site-packages\\sklearn\\neural_network\\multilayer_perceptron.py:564: ConvergenceWarning: Stochastic Optimizer: Maximum iterations (1000) reached and the optimization hasn't converged yet.\n",
      "  % self.max_iter, ConvergenceWarning)\n",
      "C:\\Users\\gray\\Anaconda3\\lib\\site-packages\\sklearn\\neural_network\\multilayer_perceptron.py:564: ConvergenceWarning: Stochastic Optimizer: Maximum iterations (1000) reached and the optimization hasn't converged yet.\n",
      "  % self.max_iter, ConvergenceWarning)\n",
      "C:\\Users\\gray\\Anaconda3\\lib\\site-packages\\sklearn\\neural_network\\multilayer_perceptron.py:564: ConvergenceWarning: Stochastic Optimizer: Maximum iterations (1000) reached and the optimization hasn't converged yet.\n",
      "  % self.max_iter, ConvergenceWarning)\n"
     ]
    },
    {
     "name": "stdout",
     "output_type": "stream",
     "text": [
      "4 : 8.863635552732573\n",
      "5 : 8.584153581665205\n"
     ]
    },
    {
     "name": "stderr",
     "output_type": "stream",
     "text": [
      "C:\\Users\\gray\\Anaconda3\\lib\\site-packages\\sklearn\\neural_network\\multilayer_perceptron.py:566: UserWarning: Training interrupted by user.\n",
      "  warnings.warn(\"Training interrupted by user.\")\n"
     ]
    },
    {
     "name": "stdout",
     "output_type": "stream",
     "text": [
      "6 : 8.658913513449109\n",
      "7 : 8.611352658825183\n"
     ]
    },
    {
     "name": "stderr",
     "output_type": "stream",
     "text": [
      "C:\\Users\\gray\\Anaconda3\\lib\\site-packages\\sklearn\\neural_network\\multilayer_perceptron.py:564: ConvergenceWarning: Stochastic Optimizer: Maximum iterations (1000) reached and the optimization hasn't converged yet.\n",
      "  % self.max_iter, ConvergenceWarning)\n"
     ]
    },
    {
     "name": "stdout",
     "output_type": "stream",
     "text": [
      "8 : 8.718596172343812\n",
      "9 : 8.607337345998719\n"
     ]
    },
    {
     "name": "stderr",
     "output_type": "stream",
     "text": [
      "C:\\Users\\gray\\Anaconda3\\lib\\site-packages\\sklearn\\neural_network\\multilayer_perceptron.py:566: UserWarning: Training interrupted by user.\n",
      "  warnings.warn(\"Training interrupted by user.\")\n",
      "C:\\Users\\gray\\Anaconda3\\lib\\site-packages\\sklearn\\neural_network\\multilayer_perceptron.py:566: UserWarning: Training interrupted by user.\n",
      "  warnings.warn(\"Training interrupted by user.\")\n"
     ]
    }
   ],
   "source": [
    "for i in range(1,15):\n",
    "    print (i,\":\",(evalNN(i)))"
   ]
  },
  {
   "cell_type": "markdown",
   "metadata": {},
   "source": [
    "#### Toolbox"
   ]
  },
  {
   "cell_type": "code",
   "execution_count": null,
   "metadata": {},
   "outputs": [],
   "source": [
    "toolbox = base.Toolbox()\n",
    "\n",
    "#candidate solutions are permutations\n",
    "toolbox.register(\"candidate\", random.sample, range(numQueens), numQueens)\n",
    "\n",
    "#set structure for individuals\n",
    "toolbox.register(\"individual\", tools.initIterate, creator.Individual, toolbox.permutation)\n",
    "toolbox.register(\"population\", tools.initRepeat, list, toolbox.individual)\n",
    "\n",
    "#set evalutation function\n",
    "toolbox.register(\"evaluate\", evalNN)\n",
    "#crossover is partial crossover\n",
    "toolbox.register(\"mate\", tools.cxPartialyMatched)\n",
    "#mutation is index shuffling\n",
    "toolbox.register(\"mutate\", tools.mutShuffleIndexes, indpb=2.0/numQueens)\n",
    "#uses tournament selecton\n",
    "toolbox.register(\"select\", tools.selTournament, tournsize=3)"
   ]
  },
  {
   "cell_type": "markdown",
   "metadata": {},
   "source": [
    "#### Create the Initial Population and Run the Algorithm"
   ]
  },
  {
   "cell_type": "code",
   "execution_count": null,
   "metadata": {},
   "outputs": [],
   "source": [
    "#generate the intial population\n",
    "pop = toolbox.population(n=180)\n",
    "#run the algorithm\n",
    "result, log = algorithms.eaSimple(pop, toolbox, cxpb=0.5, mutpb=0.2, ngen=10000, verbose=False)"
   ]
  },
  {
   "cell_type": "markdown",
   "metadata": {},
   "source": [
    "#### Results"
   ]
  },
  {
   "cell_type": "code",
   "execution_count": null,
   "metadata": {},
   "outputs": [],
   "source": [
    "print(\"The solution: {}\".format(tools.selBest(result,k=1)[0]))\n",
    "print(\"Number of conflicts: {}\".format(evalNQueens(tools.selBest(result,k=1)[0])))"
   ]
  },
  {
   "cell_type": "code",
   "execution_count": null,
   "metadata": {},
   "outputs": [],
   "source": []
  }
 ],
 "metadata": {
  "kernelspec": {
   "display_name": "Python 3",
   "language": "python",
   "name": "python3"
  },
  "language_info": {
   "codemirror_mode": {
    "name": "ipython",
    "version": 3
   },
   "file_extension": ".py",
   "mimetype": "text/x-python",
   "name": "python",
   "nbconvert_exporter": "python",
   "pygments_lexer": "ipython3",
   "version": "3.6.5"
  }
 },
 "nbformat": 4,
 "nbformat_minor": 2
}
