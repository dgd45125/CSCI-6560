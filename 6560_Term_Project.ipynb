{
 "cells": [
  {
   "cell_type": "code",
   "execution_count": 44,
   "metadata": {},
   "outputs": [],
   "source": [
    "#Donald Dunagan and Andrew Stout\n",
    "#14 December 2018\n",
    "#CSCI 6560 Term Project\n",
    "#Applications of Evolutionary Computation to Regression \n",
    "#with Multilayer Perceptron Artificial Neural Networks"
   ]
  },
  {
   "cell_type": "markdown",
   "metadata": {},
   "source": [
    "# Utilizing the DEAP Package: Distributed Evolutionary Algorithms in Python"
   ]
  },
  {
   "cell_type": "code",
   "execution_count": 3,
   "metadata": {},
   "outputs": [],
   "source": [
    "#    DEAP is free software: you can redistribute it and/or modify\n",
    "#    it under the terms of the GNU Lesser General Public License as\n",
    "#    published by the Free Software Foundation, either version 3 of\n",
    "#    the License, or (at your option) any later version.\n",
    "#\n",
    "#    DEAP is distributed in the hope that it will be useful,\n",
    "#    but WITHOUT ANY WARRANTY; without even the implied warranty of\n",
    "#    MERCHANTABILITY or FITNESS FOR A PARTICULAR PURPOSE. See the\n",
    "#    GNU Lesser General Public License for more details.\n",
    "#\n",
    "#    You should have received a copy of the GNU Lesser General Public\n",
    "#    License along with DEAP. If not, see <http://www.gnu.org/licenses/>."
   ]
  },
  {
   "cell_type": "markdown",
   "metadata": {},
   "source": [
    "# Set Up Environment"
   ]
  },
  {
   "cell_type": "code",
   "execution_count": 4,
   "metadata": {},
   "outputs": [],
   "source": [
    "#imports\n",
    "\n",
    "import numpy as np\n",
    "import pandas as pd\n",
    "from sklearn.neural_network import MLPRegressor\n",
    "from sklearn.utils import shuffle\n",
    "from sklearn.metrics import make_scorer, mean_absolute_error\n",
    "import matplotlib.pyplot as plt\n",
    "from sklearn.model_selection import cross_val_score, GridSearchCV\n",
    "from scipy import stats\n",
    "import random, operator, time, itertools, math, numpy\n",
    "from deap import algorithms, base, creator, tools\n",
    "import warnings\n",
    "import array"
   ]
  },
  {
   "cell_type": "code",
   "execution_count": 5,
   "metadata": {},
   "outputs": [
    {
     "name": "stdout",
     "output_type": "stream",
     "text": [
      "The shape of the dataframe is: (5875, 22)\n"
     ]
    },
    {
     "data": {
      "text/html": [
       "<div>\n",
       "<style scoped>\n",
       "    .dataframe tbody tr th:only-of-type {\n",
       "        vertical-align: middle;\n",
       "    }\n",
       "\n",
       "    .dataframe tbody tr th {\n",
       "        vertical-align: top;\n",
       "    }\n",
       "\n",
       "    .dataframe thead th {\n",
       "        text-align: right;\n",
       "    }\n",
       "</style>\n",
       "<table border=\"1\" class=\"dataframe\">\n",
       "  <thead>\n",
       "    <tr style=\"text-align: right;\">\n",
       "      <th></th>\n",
       "      <th>subject#</th>\n",
       "      <th>age</th>\n",
       "      <th>sex</th>\n",
       "      <th>test_time</th>\n",
       "      <th>motor_UPDRS</th>\n",
       "      <th>total_UPDRS</th>\n",
       "      <th>Jitter(%)</th>\n",
       "      <th>Jitter(Abs)</th>\n",
       "      <th>Jitter:RAP</th>\n",
       "      <th>Jitter:PPQ5</th>\n",
       "      <th>...</th>\n",
       "      <th>Shimmer(dB)</th>\n",
       "      <th>Shimmer:APQ3</th>\n",
       "      <th>Shimmer:APQ5</th>\n",
       "      <th>Shimmer:APQ11</th>\n",
       "      <th>Shimmer:DDA</th>\n",
       "      <th>NHR</th>\n",
       "      <th>HNR</th>\n",
       "      <th>RPDE</th>\n",
       "      <th>DFA</th>\n",
       "      <th>PPE</th>\n",
       "    </tr>\n",
       "  </thead>\n",
       "  <tbody>\n",
       "    <tr>\n",
       "      <th>0</th>\n",
       "      <td>1</td>\n",
       "      <td>72</td>\n",
       "      <td>0</td>\n",
       "      <td>5.6431</td>\n",
       "      <td>28.199</td>\n",
       "      <td>34.398</td>\n",
       "      <td>0.00662</td>\n",
       "      <td>0.000034</td>\n",
       "      <td>0.00401</td>\n",
       "      <td>0.00317</td>\n",
       "      <td>...</td>\n",
       "      <td>0.230</td>\n",
       "      <td>0.01438</td>\n",
       "      <td>0.01309</td>\n",
       "      <td>0.01662</td>\n",
       "      <td>0.04314</td>\n",
       "      <td>0.014290</td>\n",
       "      <td>21.640</td>\n",
       "      <td>0.41888</td>\n",
       "      <td>0.54842</td>\n",
       "      <td>0.16006</td>\n",
       "    </tr>\n",
       "    <tr>\n",
       "      <th>1</th>\n",
       "      <td>1</td>\n",
       "      <td>72</td>\n",
       "      <td>0</td>\n",
       "      <td>12.6660</td>\n",
       "      <td>28.447</td>\n",
       "      <td>34.894</td>\n",
       "      <td>0.00300</td>\n",
       "      <td>0.000017</td>\n",
       "      <td>0.00132</td>\n",
       "      <td>0.00150</td>\n",
       "      <td>...</td>\n",
       "      <td>0.179</td>\n",
       "      <td>0.00994</td>\n",
       "      <td>0.01072</td>\n",
       "      <td>0.01689</td>\n",
       "      <td>0.02982</td>\n",
       "      <td>0.011112</td>\n",
       "      <td>27.183</td>\n",
       "      <td>0.43493</td>\n",
       "      <td>0.56477</td>\n",
       "      <td>0.10810</td>\n",
       "    </tr>\n",
       "    <tr>\n",
       "      <th>2</th>\n",
       "      <td>1</td>\n",
       "      <td>72</td>\n",
       "      <td>0</td>\n",
       "      <td>19.6810</td>\n",
       "      <td>28.695</td>\n",
       "      <td>35.389</td>\n",
       "      <td>0.00481</td>\n",
       "      <td>0.000025</td>\n",
       "      <td>0.00205</td>\n",
       "      <td>0.00208</td>\n",
       "      <td>...</td>\n",
       "      <td>0.181</td>\n",
       "      <td>0.00734</td>\n",
       "      <td>0.00844</td>\n",
       "      <td>0.01458</td>\n",
       "      <td>0.02202</td>\n",
       "      <td>0.020220</td>\n",
       "      <td>23.047</td>\n",
       "      <td>0.46222</td>\n",
       "      <td>0.54405</td>\n",
       "      <td>0.21014</td>\n",
       "    </tr>\n",
       "    <tr>\n",
       "      <th>3</th>\n",
       "      <td>1</td>\n",
       "      <td>72</td>\n",
       "      <td>0</td>\n",
       "      <td>25.6470</td>\n",
       "      <td>28.905</td>\n",
       "      <td>35.810</td>\n",
       "      <td>0.00528</td>\n",
       "      <td>0.000027</td>\n",
       "      <td>0.00191</td>\n",
       "      <td>0.00264</td>\n",
       "      <td>...</td>\n",
       "      <td>0.327</td>\n",
       "      <td>0.01106</td>\n",
       "      <td>0.01265</td>\n",
       "      <td>0.01963</td>\n",
       "      <td>0.03317</td>\n",
       "      <td>0.027837</td>\n",
       "      <td>24.445</td>\n",
       "      <td>0.48730</td>\n",
       "      <td>0.57794</td>\n",
       "      <td>0.33277</td>\n",
       "    </tr>\n",
       "    <tr>\n",
       "      <th>4</th>\n",
       "      <td>1</td>\n",
       "      <td>72</td>\n",
       "      <td>0</td>\n",
       "      <td>33.6420</td>\n",
       "      <td>29.187</td>\n",
       "      <td>36.375</td>\n",
       "      <td>0.00335</td>\n",
       "      <td>0.000020</td>\n",
       "      <td>0.00093</td>\n",
       "      <td>0.00130</td>\n",
       "      <td>...</td>\n",
       "      <td>0.176</td>\n",
       "      <td>0.00679</td>\n",
       "      <td>0.00929</td>\n",
       "      <td>0.01819</td>\n",
       "      <td>0.02036</td>\n",
       "      <td>0.011625</td>\n",
       "      <td>26.126</td>\n",
       "      <td>0.47188</td>\n",
       "      <td>0.56122</td>\n",
       "      <td>0.19361</td>\n",
       "    </tr>\n",
       "  </tbody>\n",
       "</table>\n",
       "<p>5 rows × 22 columns</p>\n",
       "</div>"
      ],
      "text/plain": [
       "   subject#  age  sex  test_time  motor_UPDRS  total_UPDRS  Jitter(%)  \\\n",
       "0         1   72    0     5.6431       28.199       34.398    0.00662   \n",
       "1         1   72    0    12.6660       28.447       34.894    0.00300   \n",
       "2         1   72    0    19.6810       28.695       35.389    0.00481   \n",
       "3         1   72    0    25.6470       28.905       35.810    0.00528   \n",
       "4         1   72    0    33.6420       29.187       36.375    0.00335   \n",
       "\n",
       "   Jitter(Abs)  Jitter:RAP  Jitter:PPQ5   ...     Shimmer(dB)  Shimmer:APQ3  \\\n",
       "0     0.000034     0.00401      0.00317   ...           0.230       0.01438   \n",
       "1     0.000017     0.00132      0.00150   ...           0.179       0.00994   \n",
       "2     0.000025     0.00205      0.00208   ...           0.181       0.00734   \n",
       "3     0.000027     0.00191      0.00264   ...           0.327       0.01106   \n",
       "4     0.000020     0.00093      0.00130   ...           0.176       0.00679   \n",
       "\n",
       "   Shimmer:APQ5  Shimmer:APQ11  Shimmer:DDA       NHR     HNR     RPDE  \\\n",
       "0       0.01309        0.01662      0.04314  0.014290  21.640  0.41888   \n",
       "1       0.01072        0.01689      0.02982  0.011112  27.183  0.43493   \n",
       "2       0.00844        0.01458      0.02202  0.020220  23.047  0.46222   \n",
       "3       0.01265        0.01963      0.03317  0.027837  24.445  0.48730   \n",
       "4       0.00929        0.01819      0.02036  0.011625  26.126  0.47188   \n",
       "\n",
       "       DFA      PPE  \n",
       "0  0.54842  0.16006  \n",
       "1  0.56477  0.10810  \n",
       "2  0.54405  0.21014  \n",
       "3  0.57794  0.33277  \n",
       "4  0.56122  0.19361  \n",
       "\n",
       "[5 rows x 22 columns]"
      ]
     },
     "execution_count": 5,
     "metadata": {},
     "output_type": "execute_result"
    }
   ],
   "source": [
    "#import Parkinson's Dataset and visualize\n",
    "\n",
    "PDDF =  pd.read_csv(\"C:\\\\Users\\\\gray\\\\Desktop\\\\Evolutionary_Computing\\\\Term_Project\\\\Parkinson's_Data.csv\")\n",
    "print ('The shape of the dataframe is:',PDDF.shape)\n",
    "PDDF.head()"
   ]
  },
  {
   "cell_type": "markdown",
   "metadata": {},
   "source": [
    "#### Initial shuffling and splitting"
   ]
  },
  {
   "cell_type": "code",
   "execution_count": 6,
   "metadata": {},
   "outputs": [],
   "source": [
    "#shuffle the data\n",
    "PDDF = shuffle(PDDF)\n",
    "\n",
    "#isolate features\n",
    "features_to_drop = ['subject#','age','sex','test_time','motor_UPDRS','total_UPDRS']\n",
    "just_features = PDDF.drop(features_to_drop,axis=1)\n",
    "    \n",
    "#isolate motor_UPDRS\n",
    "just_motor = PDDF.motor_UPDRS\n",
    "   \n",
    "#isolate total_UPDRS\n",
    "just_total = PDDF.total_UPDRS\n",
    "\n",
    "#split into training and testing data\n",
    "training_features = just_features[:4700]\n",
    "testing_features = just_features[4700:]\n",
    "    \n",
    "training_motor = just_motor[:4700]\n",
    "testing_motor = just_motor[4700:]\n",
    "    \n",
    "training_total = just_total[:4700]\n",
    "testing_total = just_total[4700:] "
   ]
  },
  {
   "cell_type": "markdown",
   "metadata": {},
   "source": [
    "#### A function for shuffling and splitting the data"
   ]
  },
  {
   "cell_type": "code",
   "execution_count": 7,
   "metadata": {},
   "outputs": [],
   "source": [
    "def shuffleSplit():\n",
    "    '''\n",
    "    Shuffles and splits the DataFrame 80%-20%\n",
    "    '''\n",
    "    global PDDF\n",
    "    \n",
    "    #shuffle the data\n",
    "    PDDF = shuffle(PDDF)\n",
    "\n",
    "    #isolate features\n",
    "    features_to_drop = ['subject#','age','sex','test_time','motor_UPDRS','total_UPDRS']\n",
    "    global just_features\n",
    "    just_features = PDDF.drop(features_to_drop,axis=1)\n",
    "    \n",
    "    #isolate motor_UPDRS\n",
    "    global just_motor\n",
    "    just_motor = PDDF.motor_UPDRS\n",
    "   \n",
    "    #isolate total_UPDRS\n",
    "    global just_total\n",
    "    just_total = PDDF.total_UPDRS\n",
    "\n",
    "    #split into training and testing data\n",
    "    global training_features\n",
    "    training_features = just_features[:4700]\n",
    "    global testing_features\n",
    "    testing_features = just_features[4700:]\n",
    "    \n",
    "    global training_motor\n",
    "    training_motor = just_motor[:4700]\n",
    "    global testing_motor\n",
    "    testing_motor = just_motor[4700:]\n",
    "    \n",
    "    global training_total\n",
    "    training_total = just_total[:4700]\n",
    "    global testing_total\n",
    "    testing_total = just_total[4700:]  \n",
    "    \n",
    "    return"
   ]
  },
  {
   "cell_type": "code",
   "execution_count": 8,
   "metadata": {},
   "outputs": [],
   "source": [
    "#cross validation needs to return the mean absolute error (MAE) for each fold\n",
    "#so i have to make a custom scoring object\n",
    "\n",
    "#create scorer object\n",
    "myScorer = make_scorer(mean_absolute_error)"
   ]
  },
  {
   "cell_type": "code",
   "execution_count": 9,
   "metadata": {},
   "outputs": [
    {
     "data": {
      "text/html": [
       "<div>\n",
       "<style scoped>\n",
       "    .dataframe tbody tr th:only-of-type {\n",
       "        vertical-align: middle;\n",
       "    }\n",
       "\n",
       "    .dataframe tbody tr th {\n",
       "        vertical-align: top;\n",
       "    }\n",
       "\n",
       "    .dataframe thead th {\n",
       "        text-align: right;\n",
       "    }\n",
       "</style>\n",
       "<table border=\"1\" class=\"dataframe\">\n",
       "  <thead>\n",
       "    <tr style=\"text-align: right;\">\n",
       "      <th></th>\n",
       "      <th>subject#</th>\n",
       "      <th>age</th>\n",
       "      <th>sex</th>\n",
       "      <th>test_time</th>\n",
       "      <th>motor_UPDRS</th>\n",
       "      <th>total_UPDRS</th>\n",
       "      <th>Jitter(%)</th>\n",
       "      <th>Jitter(Abs)</th>\n",
       "      <th>Jitter:RAP</th>\n",
       "      <th>Jitter:PPQ5</th>\n",
       "      <th>...</th>\n",
       "      <th>Shimmer(dB)</th>\n",
       "      <th>Shimmer:APQ3</th>\n",
       "      <th>Shimmer:APQ5</th>\n",
       "      <th>Shimmer:APQ11</th>\n",
       "      <th>Shimmer:DDA</th>\n",
       "      <th>NHR</th>\n",
       "      <th>HNR</th>\n",
       "      <th>RPDE</th>\n",
       "      <th>DFA</th>\n",
       "      <th>PPE</th>\n",
       "    </tr>\n",
       "  </thead>\n",
       "  <tbody>\n",
       "    <tr>\n",
       "      <th>1289</th>\n",
       "      <td>9</td>\n",
       "      <td>68</td>\n",
       "      <td>0</td>\n",
       "      <td>119.350</td>\n",
       "      <td>18.243</td>\n",
       "      <td>25.497</td>\n",
       "      <td>0.01019</td>\n",
       "      <td>0.000086</td>\n",
       "      <td>0.00588</td>\n",
       "      <td>0.00628</td>\n",
       "      <td>...</td>\n",
       "      <td>0.417</td>\n",
       "      <td>0.02039</td>\n",
       "      <td>0.02407</td>\n",
       "      <td>0.04128</td>\n",
       "      <td>0.06116</td>\n",
       "      <td>0.063458</td>\n",
       "      <td>18.202</td>\n",
       "      <td>0.61687</td>\n",
       "      <td>0.76106</td>\n",
       "      <td>0.417660</td>\n",
       "    </tr>\n",
       "    <tr>\n",
       "      <th>5445</th>\n",
       "      <td>40</td>\n",
       "      <td>85</td>\n",
       "      <td>1</td>\n",
       "      <td>43.713</td>\n",
       "      <td>16.441</td>\n",
       "      <td>26.961</td>\n",
       "      <td>0.00511</td>\n",
       "      <td>0.000031</td>\n",
       "      <td>0.00275</td>\n",
       "      <td>0.00293</td>\n",
       "      <td>...</td>\n",
       "      <td>0.276</td>\n",
       "      <td>0.01647</td>\n",
       "      <td>0.01998</td>\n",
       "      <td>0.02701</td>\n",
       "      <td>0.04942</td>\n",
       "      <td>0.032450</td>\n",
       "      <td>21.433</td>\n",
       "      <td>0.56208</td>\n",
       "      <td>0.60798</td>\n",
       "      <td>0.189550</td>\n",
       "    </tr>\n",
       "    <tr>\n",
       "      <th>1235</th>\n",
       "      <td>9</td>\n",
       "      <td>68</td>\n",
       "      <td>0</td>\n",
       "      <td>84.348</td>\n",
       "      <td>17.000</td>\n",
       "      <td>24.834</td>\n",
       "      <td>0.00894</td>\n",
       "      <td>0.000078</td>\n",
       "      <td>0.00422</td>\n",
       "      <td>0.00495</td>\n",
       "      <td>...</td>\n",
       "      <td>0.628</td>\n",
       "      <td>0.03816</td>\n",
       "      <td>0.03793</td>\n",
       "      <td>0.05232</td>\n",
       "      <td>0.11449</td>\n",
       "      <td>0.039944</td>\n",
       "      <td>18.459</td>\n",
       "      <td>0.78490</td>\n",
       "      <td>0.79372</td>\n",
       "      <td>0.385950</td>\n",
       "    </tr>\n",
       "    <tr>\n",
       "      <th>5837</th>\n",
       "      <td>42</td>\n",
       "      <td>61</td>\n",
       "      <td>0</td>\n",
       "      <td>86.767</td>\n",
       "      <td>25.598</td>\n",
       "      <td>36.464</td>\n",
       "      <td>0.00169</td>\n",
       "      <td>0.000013</td>\n",
       "      <td>0.00067</td>\n",
       "      <td>0.00085</td>\n",
       "      <td>...</td>\n",
       "      <td>0.118</td>\n",
       "      <td>0.00669</td>\n",
       "      <td>0.00758</td>\n",
       "      <td>0.01146</td>\n",
       "      <td>0.02008</td>\n",
       "      <td>0.006883</td>\n",
       "      <td>28.084</td>\n",
       "      <td>0.57206</td>\n",
       "      <td>0.54540</td>\n",
       "      <td>0.084809</td>\n",
       "    </tr>\n",
       "    <tr>\n",
       "      <th>2718</th>\n",
       "      <td>20</td>\n",
       "      <td>67</td>\n",
       "      <td>0</td>\n",
       "      <td>25.832</td>\n",
       "      <td>11.841</td>\n",
       "      <td>17.841</td>\n",
       "      <td>0.01016</td>\n",
       "      <td>0.000082</td>\n",
       "      <td>0.00576</td>\n",
       "      <td>0.00528</td>\n",
       "      <td>...</td>\n",
       "      <td>0.718</td>\n",
       "      <td>0.04605</td>\n",
       "      <td>0.04675</td>\n",
       "      <td>0.05161</td>\n",
       "      <td>0.13815</td>\n",
       "      <td>0.028634</td>\n",
       "      <td>19.248</td>\n",
       "      <td>0.53051</td>\n",
       "      <td>0.81041</td>\n",
       "      <td>0.246750</td>\n",
       "    </tr>\n",
       "  </tbody>\n",
       "</table>\n",
       "<p>5 rows × 22 columns</p>\n",
       "</div>"
      ],
      "text/plain": [
       "      subject#  age  sex  test_time  motor_UPDRS  total_UPDRS  Jitter(%)  \\\n",
       "1289         9   68    0    119.350       18.243       25.497    0.01019   \n",
       "5445        40   85    1     43.713       16.441       26.961    0.00511   \n",
       "1235         9   68    0     84.348       17.000       24.834    0.00894   \n",
       "5837        42   61    0     86.767       25.598       36.464    0.00169   \n",
       "2718        20   67    0     25.832       11.841       17.841    0.01016   \n",
       "\n",
       "      Jitter(Abs)  Jitter:RAP  Jitter:PPQ5    ...     Shimmer(dB)  \\\n",
       "1289     0.000086     0.00588      0.00628    ...           0.417   \n",
       "5445     0.000031     0.00275      0.00293    ...           0.276   \n",
       "1235     0.000078     0.00422      0.00495    ...           0.628   \n",
       "5837     0.000013     0.00067      0.00085    ...           0.118   \n",
       "2718     0.000082     0.00576      0.00528    ...           0.718   \n",
       "\n",
       "      Shimmer:APQ3  Shimmer:APQ5  Shimmer:APQ11  Shimmer:DDA       NHR  \\\n",
       "1289       0.02039       0.02407        0.04128      0.06116  0.063458   \n",
       "5445       0.01647       0.01998        0.02701      0.04942  0.032450   \n",
       "1235       0.03816       0.03793        0.05232      0.11449  0.039944   \n",
       "5837       0.00669       0.00758        0.01146      0.02008  0.006883   \n",
       "2718       0.04605       0.04675        0.05161      0.13815  0.028634   \n",
       "\n",
       "         HNR     RPDE      DFA       PPE  \n",
       "1289  18.202  0.61687  0.76106  0.417660  \n",
       "5445  21.433  0.56208  0.60798  0.189550  \n",
       "1235  18.459  0.78490  0.79372  0.385950  \n",
       "5837  28.084  0.57206  0.54540  0.084809  \n",
       "2718  19.248  0.53051  0.81041  0.246750  \n",
       "\n",
       "[5 rows x 22 columns]"
      ]
     },
     "execution_count": 9,
     "metadata": {},
     "output_type": "execute_result"
    }
   ],
   "source": [
    "PDDF.head()"
   ]
  },
  {
   "cell_type": "markdown",
   "metadata": {},
   "source": [
    "# Scikit Learn MLP"
   ]
  },
  {
   "cell_type": "markdown",
   "metadata": {},
   "source": [
    "## Baseline for untuned, default MLP regressor"
   ]
  },
  {
   "cell_type": "markdown",
   "metadata": {},
   "source": [
    "### Calculate testing MAE of an untuned MLP regressor targeting total_UPDRS"
   ]
  },
  {
   "cell_type": "code",
   "execution_count": 33,
   "metadata": {},
   "outputs": [
    {
     "name": "stdout",
     "output_type": "stream",
     "text": [
      "The testing total UPDRS MAE is: 8.882597232339744\n"
     ]
    }
   ],
   "source": [
    "#train NN\n",
    "MLP = MLPRegressor()\n",
    "MLP.fit(training_features,training_total)\n",
    "#make predictions using the testing data\n",
    "predicts = (MLP.predict(testing_features)).astype(float)\n",
    "#compare predicts and actual and record mean absolut error\n",
    "MAE = mean_absolute_error(testing_total,predicts)\n",
    "print(\"The testing total UPDRS MAE is: {}\".format(MAE))"
   ]
  },
  {
   "cell_type": "markdown",
   "metadata": {},
   "source": [
    "### Idea is to use evolutionary computation to optimize MLP hyperparameters"
   ]
  },
  {
   "cell_type": "markdown",
   "metadata": {},
   "source": [
    "### Fitness Evaluation Functon for Total UPDRS"
   ]
  },
  {
   "cell_type": "code",
   "execution_count": 11,
   "metadata": {},
   "outputs": [],
   "source": [
    "'''\n",
    "size_layer1, activation_function, optimization_algorithm, alpha value, size_layer2\n",
    "'''\n",
    "def MLP_Eval_Total(vals):\n",
    "    \n",
    "    #genotypes is real valued so some alleles need to be \n",
    "    #rounded to nearest int\n",
    "    \n",
    "    vals[0] = round(vals[0])\n",
    "    vals[1] = round(vals[1])\n",
    "    vals[2] = round(vals[2])\n",
    "    vals[4] = round(vals[4])\n",
    "    \n",
    "    #if params are out of bounds, place them back in bounds\n",
    "    if vals[0] <= 0:\n",
    "        vals[0] = 1        #size of hidden layer1\n",
    "    if vals[0] > 100:\n",
    "        vals[0] = 100\n",
    "        \n",
    "    if vals[4] <= 0:\n",
    "        vals[4] = 1        #size of hidden layer2\n",
    "    if vals[4] > 100:\n",
    "        vals[4] = 100 \n",
    "\n",
    "    if vals[1] < 0:\n",
    "        vals[1] = 0     #activation function\n",
    "    if vals[1] > 3:\n",
    "        vals[1] = 3\n",
    "        \n",
    "    if vals[2] < 0:\n",
    "        vals[2] = 0   #optimization algorithm\n",
    "    if vals[2] > 2:\n",
    "        vals[2] = 2\n",
    "        \n",
    "    if vals[3] < 0.0001:\n",
    "        vals[3] = .0001\n",
    "    if vals[3] > 1000:\n",
    "        vals[3] = 1000\n",
    "        \n",
    "    #assign vals to int alleles (if necessary)\n",
    "    if vals[1] == 0:\n",
    "        AF = 'identity'\n",
    "    if vals[1] == 1:\n",
    "        AF = 'logistic'    #activation function\n",
    "    if vals[1] == 2:\n",
    "        AF = 'tanh'\n",
    "    if vals[1] == 3:\n",
    "        AF = 'relu'\n",
    "\n",
    "    if vals[2] == 0:\n",
    "        OA = 'lbfgs'\n",
    "    if vals[2] == 1:\n",
    "        OA = 'sgd'    #optimization algorithm\n",
    "    if vals[2] == 2:\n",
    "        OA = 'adam'\n",
    "    \n",
    "    #construct phenotype\n",
    "    MLP = MLPRegressor(hidden_layer_sizes=(vals[0],vals[4],), activation=AF, solver=OA, alpha = vals[3])\n",
    "\n",
    "    #some phenotypes will throw an error\n",
    "    try:\n",
    "        #train NN\n",
    "        MLP.fit(training_features, training_total)\n",
    "        #make predictions using testing data\n",
    "        predicts = (MLP.predict(training_features)).astype(float)\n",
    "        #compare predicts and actual and record mean absolute error\n",
    "        MAE = mean_absolute_error(training_total,predicts)\n",
    "        goodPredicts = True\n",
    "    #if there is an error in fitting or evaluating the MLP,\n",
    "    #this candidate solution is clearly bad\n",
    "    except:\n",
    "        MAE = 1000\n",
    "    \n",
    "    #return MAE as fitness\n",
    "    return (MAE,)"
   ]
  },
  {
   "cell_type": "markdown",
   "metadata": {},
   "source": [
    "### Function for Generating Individuals"
   ]
  },
  {
   "cell_type": "code",
   "execution_count": 12,
   "metadata": {},
   "outputs": [],
   "source": [
    "#generates an individual with random number of nodes in hidden layer 1,\n",
    "#random activation function, random weight optimizer, random alpha value, and \n",
    "#random number of nodes in hidden layer 2\n",
    "#within the restrictions\n",
    "def Generate_Individual():\n",
    "    individual = [random.uniform(1,101),random.uniform(0,4), random.uniform(0,3), random.uniform(0.001,1000),random.uniform(0,101)]\n",
    "    return individual"
   ]
  },
  {
   "cell_type": "markdown",
   "metadata": {},
   "source": [
    "### Create FitnessMin and Individual classes"
   ]
  },
  {
   "cell_type": "code",
   "execution_count": 13,
   "metadata": {},
   "outputs": [],
   "source": [
    "#python throws a warning due to an intentional duplicate class\n",
    "import warnings\n",
    "warnings.filterwarnings('ignore')"
   ]
  },
  {
   "cell_type": "code",
   "execution_count": 14,
   "metadata": {},
   "outputs": [],
   "source": [
    "#the fitness function is to be minimized\n",
    "creator.create(\"FitnessMin\", base.Fitness, weights=(-1.0,))\n",
    "#an individual is composed of a list of vals with fitness to be minimized\n",
    "creator.create(\"Individual\", list, fitness=creator.FitnessMin)"
   ]
  },
  {
   "cell_type": "markdown",
   "metadata": {},
   "source": [
    "### Toolbox"
   ]
  },
  {
   "cell_type": "code",
   "execution_count": 15,
   "metadata": {},
   "outputs": [],
   "source": [
    "#instantiate toolbox\n",
    "toolbox = base.Toolbox()\n",
    "#tool to create an individual\n",
    "toolbox.register(\"individual\", tools.initIterate, creator.Individual, Generate_Individual)\n",
    "#tool to create a population\n",
    "toolbox.register(\"population\", tools.initRepeat, list, toolbox.individual)\n",
    "#tool for fitness evaluation\n",
    "toolbox.register(\"evaluate\", MLP_Eval_Total)\n",
    "\n",
    "#tool for crossover (one point)\n",
    "toolbox.register(\"mate\", tools.cxOnePoint)\n",
    "#mutation is gaussian mutation\n",
    "toolbox.register(\"mutate\", tools.mutGaussian, mu=0,sigma=1,indpb=0.2)\n",
    "#tool for tournament selection\n",
    "toolbox.register(\"select\", tools.selTournament, tournsize=3)"
   ]
  },
  {
   "cell_type": "markdown",
   "metadata": {},
   "source": [
    "#### Run the algorithm 30 times and record best solutions"
   ]
  },
  {
   "cell_type": "code",
   "execution_count": 16,
   "metadata": {},
   "outputs": [
    {
     "name": "stdout",
     "output_type": "stream",
     "text": [
      "Run number 0 complete\n",
      "Run number 1 complete\n",
      "Run number 2 complete\n",
      "Run number 3 complete\n",
      "Run number 4 complete\n",
      "Run number 5 complete\n",
      "Run number 6 complete\n",
      "Run number 7 complete\n",
      "Run number 8 complete\n",
      "Run number 9 complete\n",
      "Run number 10 complete\n",
      "Run number 11 complete\n",
      "Run number 12 complete\n",
      "Run number 13 complete\n",
      "Run number 14 complete\n",
      "Run number 15 complete\n",
      "Run number 16 complete\n",
      "Run number 17 complete\n",
      "Run number 18 complete\n",
      "Run number 19 complete\n",
      "Run number 20 complete\n",
      "Run number 21 complete\n",
      "Run number 22 complete\n",
      "Run number 23 complete\n",
      "Run number 24 complete\n",
      "Run number 25 complete\n",
      "Run number 26 complete\n",
      "Run number 27 complete\n",
      "Run number 28 complete\n",
      "Run number 29 complete\n"
     ]
    }
   ],
   "source": [
    "#list for best solutions from each run\n",
    "HOF_list_hyperparams = []\n",
    "\n",
    "#run the algorithm 30 times\n",
    "for i in range(30):\n",
    "    #generate the intial population (2 * number of dimensions)\n",
    "    pop = toolbox.population(n=10)\n",
    "    #Object for recording best candidate to ever live\n",
    "    HOF = tools.HallOfFame(1)\n",
    "    #run the algorithm\n",
    "    result, log = algorithms.eaSimple(pop, toolbox,halloffame=HOF, cxpb=0.7, mutpb=1, ngen=10, verbose=False)\n",
    "    print(\"Run number {} complete\".format(i))\n",
    "    HOF_list_hyperparams.append(HOF)"
   ]
  },
  {
   "cell_type": "markdown",
   "metadata": {},
   "source": [
    "#### Calculate testing MAEs for best solutions"
   ]
  },
  {
   "cell_type": "code",
   "execution_count": 32,
   "metadata": {},
   "outputs": [],
   "source": [
    "#list for MAEs\n",
    "hyperparam_MAEs = []\n",
    "\n",
    "for i in range(30):\n",
    "    #genotypes is real valued so some alleles need to be \n",
    "    #rounded to nearest int\n",
    "\n",
    "    vals = HOF_list_hyperparams[i].items[0]\n",
    "\n",
    "    vals[0] = round(vals[0])\n",
    "    vals[1] = round(vals[1])\n",
    "    vals[2] = round(vals[2])\n",
    "    vals[4] = round(vals[4])\n",
    "\n",
    "    #if params are out of bounds, place them back in bounds\n",
    "    if vals[0] <= 0:\n",
    "        vals[0] = 1        #size of hidden layer1\n",
    "    if vals[0] > 100:\n",
    "        vals[0] = 100\n",
    "\n",
    "    if vals[4] <= 0:\n",
    "        vals[4] = 1        #size of hidden layer2\n",
    "    if vals[4] > 100:\n",
    "        vals[4] = 100 \n",
    "\n",
    "    if vals[1] < 0:\n",
    "        vals[1] = 0     #activation function\n",
    "    if vals[1] > 3:\n",
    "        vals[1] = 3\n",
    "\n",
    "    if vals[2] < 0:\n",
    "        vals[2] = 0   #optimization algorithm\n",
    "    if vals[2] > 2:\n",
    "        vals[2] = 2\n",
    "\n",
    "    if vals[3] < 0.0001:\n",
    "        vals[3] = .0001\n",
    "    if vals[3] > 1000:\n",
    "        vals[3] = 1000\n",
    "\n",
    "    #assign vals to int alleles (if necessary)\n",
    "    if vals[1] == 0:\n",
    "        AF = 'identity'\n",
    "    if vals[1] == 1:\n",
    "        AF = 'logistic'    #activation function\n",
    "    if vals[1] == 2:\n",
    "        AF = 'tanh'\n",
    "    if vals[1] == 3:\n",
    "        AF = 'relu'\n",
    "\n",
    "    if vals[2] == 0:\n",
    "        OA = 'lbfgs'\n",
    "    if vals[2] == 1:\n",
    "        OA = 'sgd'    #optimization algorithm\n",
    "    if vals[2] == 2:\n",
    "        OA = 'adam'\n",
    "\n",
    "    #construct phenotype\n",
    "    MLP = MLPRegressor(hidden_layer_sizes=(vals[0],vals[4],), activation=AF, solver=OA, alpha = vals[3])\n",
    "\n",
    "    #train NN\n",
    "    MLP.fit(training_features, training_total)\n",
    "    #make predictions using testing data\n",
    "    predicts = (MLP.predict(testing_features)).astype(float)\n",
    "    #compare predicts and actual and record mean absolute error\n",
    "    MAE = mean_absolute_error(testing_total,predicts)\n",
    "    hyperparam_MAEs.append(MAE)"
   ]
  },
  {
   "cell_type": "markdown",
   "metadata": {},
   "source": [
    "#### Calculate mean testing MAE and std"
   ]
  },
  {
   "cell_type": "code",
   "execution_count": 37,
   "metadata": {},
   "outputs": [
    {
     "name": "stdout",
     "output_type": "stream",
     "text": [
      "Accuracy: 8.42584936244169\n",
      "Standard deviation: 0.11287507607013775\n"
     ]
    }
   ],
   "source": [
    "hyperparam_accuracy = np.mean(hyperparam_MAEs)\n",
    "hyperparam_std = np.std(hyperparam_MAEs)\n",
    "\n",
    "print(\"Accuracy: {}\".format(hyperparam_accuracy))\n",
    "print(\"Standard deviation: {}\".format(hyperparam_std))"
   ]
  },
  {
   "cell_type": "markdown",
   "metadata": {},
   "source": [
    "# Evolving NN Weights"
   ]
  },
  {
   "cell_type": "markdown",
   "metadata": {},
   "source": [
    "## 5-Fold Cross Validation to Determine Optimum Number of Hidden Nodes "
   ]
  },
  {
   "cell_type": "markdown",
   "metadata": {},
   "source": [
    "#### Compare 8 nodes in hidden layer to 128"
   ]
  },
  {
   "cell_type": "code",
   "execution_count": 10,
   "metadata": {},
   "outputs": [
    {
     "name": "stderr",
     "output_type": "stream",
     "text": [
      "C:\\Users\\gray\\Anaconda3\\lib\\site-packages\\sklearn\\neural_network\\multilayer_perceptron.py:564: ConvergenceWarning: Stochastic Optimizer: Maximum iterations (200) reached and the optimization hasn't converged yet.\n",
      "  % self.max_iter, ConvergenceWarning)\n",
      "C:\\Users\\gray\\Anaconda3\\lib\\site-packages\\sklearn\\neural_network\\multilayer_perceptron.py:564: ConvergenceWarning: Stochastic Optimizer: Maximum iterations (200) reached and the optimization hasn't converged yet.\n",
      "  % self.max_iter, ConvergenceWarning)\n",
      "C:\\Users\\gray\\Anaconda3\\lib\\site-packages\\sklearn\\neural_network\\multilayer_perceptron.py:564: ConvergenceWarning: Stochastic Optimizer: Maximum iterations (200) reached and the optimization hasn't converged yet.\n",
      "  % self.max_iter, ConvergenceWarning)\n"
     ]
    },
    {
     "name": "stdout",
     "output_type": "stream",
     "text": [
      "The 5-fold CV'd MAE with 8 nodes in the hidden layer is: 8.672209545913429\n"
     ]
    },
    {
     "name": "stderr",
     "output_type": "stream",
     "text": [
      "C:\\Users\\gray\\Anaconda3\\lib\\site-packages\\sklearn\\neural_network\\multilayer_perceptron.py:564: ConvergenceWarning: Stochastic Optimizer: Maximum iterations (200) reached and the optimization hasn't converged yet.\n",
      "  % self.max_iter, ConvergenceWarning)\n"
     ]
    }
   ],
   "source": [
    "#5-fold cross validated untuned MLP targeting total_UPDRS\n",
    "\n",
    "MLP = MLPRegressor(hidden_layer_sizes=(8,))\n",
    "\n",
    "#5-fold CV\n",
    "vals = cross_val_score(MLP,training_features,training_total,cv=5, scoring=myScorer)\n",
    "print(\"The 5-fold CV'd MAE with 8 nodes in the hidden layer is: {}\".format(vals.mean()))"
   ]
  },
  {
   "cell_type": "markdown",
   "metadata": {},
   "source": [
    "#### ^ the NN is not converging with only 8 hidden nodes. Needs more"
   ]
  },
  {
   "cell_type": "code",
   "execution_count": 177,
   "metadata": {},
   "outputs": [
    {
     "name": "stdout",
     "output_type": "stream",
     "text": [
      "The 5-fold CV'd MAE with 128 nodes in the hidden layer is: 8.538145873205464\n"
     ]
    }
   ],
   "source": [
    "#5-fold cross validated untuned MLP targeting total_UPDRS\n",
    "\n",
    "MLP = MLPRegressor(hidden_layer_sizes=(128,))\n",
    "\n",
    "#5-fold CV\n",
    "vals = cross_val_score(MLP,training_features,training_total,cv=5, scoring=myScorer)\n",
    "print(\"The 5-fold CV'd MAE with 128 nodes in the hidden layer is: {}\".format(vals.mean()))"
   ]
  },
  {
   "cell_type": "markdown",
   "metadata": {},
   "source": [
    "#### 128 converges and has better MAE, but can we get the same result with less nodes?"
   ]
  },
  {
   "cell_type": "code",
   "execution_count": 21,
   "metadata": {},
   "outputs": [
    {
     "name": "stdout",
     "output_type": "stream",
     "text": [
      "The 5-fold CV'd MAE with 64 nodes in the hidden layer is: 8.510845443717818\n"
     ]
    }
   ],
   "source": [
    "#5-fold cross validated untuned MLP targeting total_UPDRS\n",
    "\n",
    "MLP = MLPRegressor(hidden_layer_sizes=(64,))\n",
    "\n",
    "#5-fold CV\n",
    "vals = cross_val_score(MLP,training_features,training_total,cv=5, scoring=myScorer)\n",
    "print(\"The 5-fold CV'd MAE with 64 nodes in the hidden layer is: {}\".format(vals.mean()))"
   ]
  },
  {
   "cell_type": "markdown",
   "metadata": {},
   "source": [
    "#### Accuracy is the same with half the nodes. Let's try 32"
   ]
  },
  {
   "cell_type": "code",
   "execution_count": 22,
   "metadata": {},
   "outputs": [
    {
     "name": "stdout",
     "output_type": "stream",
     "text": [
      "The 5-fold CV'd MAE with 32 nodes in the hidden layer is: 8.565301580052068\n"
     ]
    }
   ],
   "source": [
    "#5-fold cross validated untuned MLP targeting total_UPDRS\n",
    "\n",
    "MLP = MLPRegressor(hidden_layer_sizes=(32,))\n",
    "\n",
    "#5-fold CV\n",
    "vals = cross_val_score(MLP,training_features,training_total,cv=5, scoring=myScorer)\n",
    "print(\"The 5-fold CV'd MAE with 32 nodes in the hidden layer is: {}\".format(vals.mean()))"
   ]
  },
  {
   "cell_type": "markdown",
   "metadata": {},
   "source": [
    "#### Accuracy is worse. 64 nodes in the hidden layer is our sweet spot"
   ]
  },
  {
   "cell_type": "markdown",
   "metadata": {},
   "source": [
    "## Evolving NN Weights with a Genetic Algorithm"
   ]
  },
  {
   "cell_type": "markdown",
   "metadata": {},
   "source": [
    "#### Evaluation Function"
   ]
  },
  {
   "cell_type": "code",
   "execution_count": 17,
   "metadata": {},
   "outputs": [],
   "source": [
    "def evalNN(individual):\n",
    "    \"\"\"\n",
    "    Takes the actual UPDRS values (either motor or total) and an np \n",
    "    array of length 1088, extracts the weight matrices,\n",
    "    runs the neural network, and calculates the mean absolute \n",
    "    error between predicted UPDRS and actual UPDRS\n",
    "    \"\"\"\n",
    "    #extract weight matrices\n",
    "    weights1 = np.array(individual[0:1024]).reshape(16,64)\n",
    "    weights2 = np.array(individual[1024:]).reshape(64,1)\n",
    "    \n",
    "    \n",
    "    #perform matrix operations that take place inside the \n",
    "    #neural network\n",
    "    \n",
    "    #matrix multiplication between feature matrix and weights of hidden layer\n",
    "    hidden = np.matmul(training_features,weights1)\n",
    "    #add biases of hidden layer to this\n",
    "    hidden = hidden + 1\n",
    "    \n",
    "    #perform ReLu activation function\n",
    "    np.maximum(hidden,0,hidden)\n",
    "    \n",
    "    #matrix multiplication between the result of the hidden layer and \n",
    "    #the weights of the output layer\n",
    "    final = np.matmul(hidden,weights2)\n",
    "\n",
    "    #activation function for output node of regression is linear\n",
    "    #so this is result of the neural network\n",
    "    \n",
    "    #calculate mean absolute error between predicted and actual and return \n",
    "    MAE =  mean_absolute_error(training_total,final)\n",
    "    return (MAE,)"
   ]
  },
  {
   "cell_type": "markdown",
   "metadata": {},
   "source": [
    "#### Function for generating an individual"
   ]
  },
  {
   "cell_type": "code",
   "execution_count": 18,
   "metadata": {},
   "outputs": [],
   "source": [
    "def Generate_Individual():\n",
    "    #individuals generated from the standard normal distribution: mu=0, std=1\n",
    "    individual = np.random.normal(0,1,1088)\n",
    "    return individual"
   ]
  },
  {
   "cell_type": "markdown",
   "metadata": {},
   "source": [
    "#### Create FitnessMin and Individual classes"
   ]
  },
  {
   "cell_type": "code",
   "execution_count": 19,
   "metadata": {},
   "outputs": [],
   "source": [
    "#the fitness function is to be minimized\n",
    "creator.create(\"FitnessMin\", base.Fitness, weights=(-1.0,))\n",
    "#an individual is composed of a list of vals with fitness to be minimized\n",
    "creator.create(\"Individual\", list, fitness=creator.FitnessMin)"
   ]
  },
  {
   "cell_type": "markdown",
   "metadata": {},
   "source": [
    "#### Toolbox"
   ]
  },
  {
   "cell_type": "code",
   "execution_count": 20,
   "metadata": {},
   "outputs": [],
   "source": [
    "#instantiate toolbox\n",
    "toolbox = base.Toolbox()\n",
    "#tool to create an individual\n",
    "toolbox.register(\"individual\", tools.initIterate, creator.Individual, Generate_Individual)\n",
    "#tool to create a population\n",
    "toolbox.register(\"population\", tools.initRepeat, list, toolbox.individual)\n",
    "#tool for fitness evaluation\n",
    "toolbox.register(\"evaluate\", evalNN)\n",
    "\n",
    "#tool for crossover (one point)\n",
    "toolbox.register(\"mate\", tools.cxOnePoint)\n",
    "#mutation is gaussian mutation\n",
    "toolbox.register(\"mutate\", tools.mutGaussian, mu=0,sigma=1.0,indpb=(1/1088))\n",
    "#tool for tournament selection\n",
    "toolbox.register(\"select\", tools.selTournament, tournsize=50)"
   ]
  },
  {
   "cell_type": "markdown",
   "metadata": {},
   "source": [
    "#### Run the algorithm 30 times and record best solutions"
   ]
  },
  {
   "cell_type": "code",
   "execution_count": 21,
   "metadata": {},
   "outputs": [
    {
     "name": "stdout",
     "output_type": "stream",
     "text": [
      "Run number 0 complete\n",
      "Run number 1 complete\n",
      "Run number 2 complete\n",
      "Run number 3 complete\n",
      "Run number 4 complete\n",
      "Run number 5 complete\n",
      "Run number 6 complete\n",
      "Run number 7 complete\n",
      "Run number 8 complete\n",
      "Run number 9 complete\n",
      "Run number 10 complete\n",
      "Run number 11 complete\n",
      "Run number 12 complete\n",
      "Run number 13 complete\n",
      "Run number 14 complete\n",
      "Run number 15 complete\n",
      "Run number 16 complete\n",
      "Run number 17 complete\n",
      "Run number 18 complete\n",
      "Run number 19 complete\n",
      "Run number 20 complete\n",
      "Run number 21 complete\n",
      "Run number 22 complete\n",
      "Run number 23 complete\n",
      "Run number 24 complete\n",
      "Run number 25 complete\n",
      "Run number 26 complete\n",
      "Run number 27 complete\n",
      "Run number 28 complete\n",
      "Run number 29 complete\n"
     ]
    }
   ],
   "source": [
    "#list for best solutions from each run\n",
    "HOF_list_GA = []\n",
    "\n",
    "#run the algorithm 30 times\n",
    "for i in range(30):\n",
    "    #generate the intial population (0.5 * number of dimensions)\n",
    "    pop = toolbox.population(n=544)\n",
    "    #Object for recording best candidate to ever live\n",
    "    HOF = tools.HallOfFame(1)\n",
    "    #run the algorithm\n",
    "    result, log = algorithms.eaSimple(pop, toolbox,halloffame=HOF, cxpb=0.7, mutpb=1, ngen=40, verbose=False)\n",
    "    print(\"Run number {} complete\".format(i))\n",
    "    HOF_list_GA.append(HOF)"
   ]
  },
  {
   "cell_type": "markdown",
   "metadata": {},
   "source": [
    "#### Calculate testing MAEs for best solutions"
   ]
  },
  {
   "cell_type": "code",
   "execution_count": 40,
   "metadata": {},
   "outputs": [],
   "source": [
    "#list for MAEs\n",
    "GA_MAEs = []\n",
    "\n",
    "for i in range(30):\n",
    "    MAE = evalNN(HOF_list_GA[i].items[0])[0]\n",
    "    GA_MAEs.append(MAE)"
   ]
  },
  {
   "cell_type": "markdown",
   "metadata": {},
   "source": [
    "#### Calculate mean testing MAE and std"
   ]
  },
  {
   "cell_type": "code",
   "execution_count": 41,
   "metadata": {},
   "outputs": [
    {
     "name": "stdout",
     "output_type": "stream",
     "text": [
      "Accuracy: 8.489249371294234\n",
      "Standard deviation: 0.0558674384083221\n"
     ]
    }
   ],
   "source": [
    "GA_accuracy = np.mean(GA_MAEs)\n",
    "GA_std = np.std(GA_MAEs)\n",
    "\n",
    "print(\"Accuracy: {}\".format(GA_accuracy))\n",
    "print(\"Standard deviation: {}\".format(GA_std))"
   ]
  },
  {
   "cell_type": "markdown",
   "metadata": {},
   "source": [
    "## Evolve NN Weights with Evolution Strategies"
   ]
  },
  {
   "cell_type": "markdown",
   "metadata": {},
   "source": [
    "### Creator"
   ]
  },
  {
   "cell_type": "code",
   "execution_count": 22,
   "metadata": {},
   "outputs": [],
   "source": [
    "#fitness is to be minimized, an individual is an array of doubles, a strategy is an array of doubles\n",
    "creator.create(\"FitnessMin\", base.Fitness, weights=(-1.0,))\n",
    "creator.create(\"Individual\", array.array, typecode=\"d\", fitness=creator.FitnessMin, strategy=None)\n",
    "creator.create(\"Strategy\", array.array, typecode=\"d\")"
   ]
  },
  {
   "cell_type": "markdown",
   "metadata": {},
   "source": [
    "### Function for Generating Individuals"
   ]
  },
  {
   "cell_type": "code",
   "execution_count": 23,
   "metadata": {},
   "outputs": [],
   "source": [
    "#generates object variables and strategy parameters for an individual\n",
    "def generateES(icls, scls):\n",
    "    ind = icls(random.uniform(-3, 3) for _ in range(1088))\n",
    "    ind.strategy = scls(random.uniform(.001, 3) for _ in range(1088))\n",
    "    return ind"
   ]
  },
  {
   "cell_type": "markdown",
   "metadata": {},
   "source": [
    "### Function for Ensuring Sigmas are Valid"
   ]
  },
  {
   "cell_type": "code",
   "execution_count": 24,
   "metadata": {},
   "outputs": [],
   "source": [
    "#if sigmas are below the threshold, push them back in bounds\n",
    "def checkStrategy(minstrategy):\n",
    "    def decorator(func):\n",
    "        def wrappper(*args, **kargs):\n",
    "            children = func(*args, **kargs)\n",
    "            for child in children:\n",
    "                for i, s in enumerate(child.strategy):\n",
    "                    if s < minstrategy:\n",
    "                        child.strategy[i] = minstrategy\n",
    "            return children\n",
    "        return wrappper\n",
    "    return decorator"
   ]
  },
  {
   "cell_type": "markdown",
   "metadata": {},
   "source": [
    "### Toolbox"
   ]
  },
  {
   "cell_type": "code",
   "execution_count": 25,
   "metadata": {},
   "outputs": [],
   "source": [
    "toolbox = base.Toolbox()\n",
    "toolbox.register(\"individual\", generateES, creator.Individual, creator.Strategy)\n",
    "toolbox.register(\"population\", tools.initRepeat, list, toolbox.individual)\n",
    "#two point crossover on both individuals and their strategies\n",
    "toolbox.register(\"mate\", tools.cxESTwoPoint)\n",
    "toolbox.register(\"mutate\", tools.mutESLogNormal, c=1.0, indpb=0.03)\n",
    "toolbox.register(\"select\", tools.selTournament, tournsize=50)\n",
    "toolbox.register(\"evaluate\", evalNN)\n",
    "\n",
    "toolbox.decorate(\"mate\", checkStrategy(.01))\n",
    "toolbox.decorate(\"mutate\", checkStrategy(.01))"
   ]
  },
  {
   "cell_type": "markdown",
   "metadata": {},
   "source": [
    "### Run the Algorithm 30 times and recor best solutions"
   ]
  },
  {
   "cell_type": "code",
   "execution_count": 26,
   "metadata": {},
   "outputs": [
    {
     "name": "stdout",
     "output_type": "stream",
     "text": [
      "Run number 0 complete\n",
      "Run number 1 complete\n",
      "Run number 2 complete\n",
      "Run number 3 complete\n",
      "Run number 4 complete\n",
      "Run number 5 complete\n",
      "Run number 6 complete\n",
      "Run number 7 complete\n",
      "Run number 8 complete\n",
      "Run number 9 complete\n",
      "Run number 10 complete\n",
      "Run number 11 complete\n",
      "Run number 12 complete\n",
      "Run number 13 complete\n",
      "Run number 14 complete\n",
      "Run number 15 complete\n",
      "Run number 16 complete\n",
      "Run number 17 complete\n",
      "Run number 18 complete\n",
      "Run number 19 complete\n",
      "Run number 20 complete\n",
      "Run number 21 complete\n",
      "Run number 22 complete\n",
      "Run number 23 complete\n",
      "Run number 24 complete\n",
      "Run number 25 complete\n",
      "Run number 26 complete\n",
      "Run number 27 complete\n",
      "Run number 28 complete\n",
      "Run number 29 complete\n",
      "Run number 30 complete\n",
      "Run number 31 complete\n",
      "Run number 32 complete\n",
      "Run number 33 complete\n",
      "Run number 34 complete\n",
      "Run number 35 complete\n",
      "Run number 36 complete\n",
      "Run number 37 complete\n",
      "Run number 38 complete\n",
      "Run number 39 complete\n",
      "Run number 40 complete\n",
      "Run number 41 complete\n",
      "Run number 42 complete\n",
      "Run number 43 complete\n",
      "Run number 44 complete\n",
      "Run number 45 complete\n",
      "Run number 46 complete\n",
      "Run number 47 complete\n",
      "Run number 48 complete\n",
      "Run number 49 complete\n",
      "Run number 50 complete\n",
      "Run number 51 complete\n",
      "Run number 52 complete\n",
      "Run number 53 complete\n",
      "Run number 54 complete\n",
      "Run number 55 complete\n",
      "Run number 56 complete\n",
      "Run number 57 complete\n",
      "Run number 58 complete\n",
      "Run number 59 complete\n"
     ]
    }
   ],
   "source": [
    "#list for best solutions from each run\n",
    "HOF_list_ES = []\n",
    "\n",
    "#run the algorithm 60 times\n",
    "for i in range(60):\n",
    "    #generate the initial population\n",
    "    pop = toolbox.population(544)\n",
    "    #object for recording best candidate to ever live\n",
    "    HOF = tools.HallOfFame(1)\n",
    "    #run the algorithm\n",
    "    pop, logbook = algorithms.eaMuCommaLambda(pop, toolbox, mu=544, lambda_=544, \n",
    "        cxpb=0.6, mutpb=0.3, ngen=40, halloffame=HOF, verbose = False)\n",
    "    print(\"Run number {} complete\".format(i))\n",
    "    HOF_list_ES.append(HOF)"
   ]
  },
  {
   "cell_type": "markdown",
   "metadata": {},
   "source": [
    "#### Calculate testing MAEs for best solutions"
   ]
  },
  {
   "cell_type": "code",
   "execution_count": 42,
   "metadata": {},
   "outputs": [],
   "source": [
    "#list for MAEs\n",
    "ES_MAEs = []\n",
    "\n",
    "for i in range(30):\n",
    "    MAE = evalNN(HOF_list_ES[i].items[0])[0]\n",
    "    ES_MAEs.append(MAE)"
   ]
  },
  {
   "cell_type": "markdown",
   "metadata": {},
   "source": [
    "#### Calculate mean testing MAE and std"
   ]
  },
  {
   "cell_type": "code",
   "execution_count": 43,
   "metadata": {},
   "outputs": [
    {
     "name": "stdout",
     "output_type": "stream",
     "text": [
      "Accuracy: 8.415751939190853\n",
      "Standard deviation: 0.05690728515311217\n"
     ]
    }
   ],
   "source": [
    "ES_accuracy = np.mean(ES_MAEs)\n",
    "ES_std = np.std(ES_MAEs)\n",
    "\n",
    "print(\"Accuracy: {}\".format(ES_accuracy))\n",
    "print(\"Standard deviation: {}\".format(ES_std))"
   ]
  }
 ],
 "metadata": {
  "kernelspec": {
   "display_name": "Python 3",
   "language": "python",
   "name": "python3"
  },
  "language_info": {
   "codemirror_mode": {
    "name": "ipython",
    "version": 3
   },
   "file_extension": ".py",
   "mimetype": "text/x-python",
   "name": "python",
   "nbconvert_exporter": "python",
   "pygments_lexer": "ipython3",
   "version": "3.6.5"
  }
 },
 "nbformat": 4,
 "nbformat_minor": 2
}
