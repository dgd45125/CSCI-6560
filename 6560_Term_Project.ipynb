{
 "cells": [
  {
   "cell_type": "code",
   "execution_count": 1,
   "metadata": {},
   "outputs": [],
   "source": [
    "#Donald Dunagan and Andrew Stout\n",
    "#811-648-053\n",
    "#10 November 2018\n",
    "#CSCI 6560 Term Project\n",
    "#The use of evolutionary computation in the\n",
    "#optimization of neural networks"
   ]
  },
  {
   "cell_type": "markdown",
   "metadata": {},
   "source": [
    "# Utilizing the DEAP Package: Distributed Evolutionary Algorithms in Python"
   ]
  },
  {
   "cell_type": "code",
   "execution_count": 2,
   "metadata": {},
   "outputs": [],
   "source": [
    "#    DEAP is free software: you can redistribute it and/or modify\n",
    "#    it under the terms of the GNU Lesser General Public License as\n",
    "#    published by the Free Software Foundation, either version 3 of\n",
    "#    the License, or (at your option) any later version.\n",
    "#\n",
    "#    DEAP is distributed in the hope that it will be useful,\n",
    "#    but WITHOUT ANY WARRANTY; without even the implied warranty of\n",
    "#    MERCHANTABILITY or FITNESS FOR A PARTICULAR PURPOSE. See the\n",
    "#    GNU Lesser General Public License for more details.\n",
    "#\n",
    "#    You should have received a copy of the GNU Lesser General Public\n",
    "#    License along with DEAP. If not, see <http://www.gnu.org/licenses/>."
   ]
  },
  {
   "cell_type": "markdown",
   "metadata": {},
   "source": [
    "# Set Up Environment"
   ]
  },
  {
   "cell_type": "code",
   "execution_count": 13,
   "metadata": {},
   "outputs": [],
   "source": [
    "#imports\n",
    "\n",
    "import numpy as np\n",
    "import pandas as pd\n",
    "from sklearn.neural_network import MLPRegressor\n",
    "from sklearn.utils import shuffle\n",
    "from sklearn.metrics import make_scorer, mean_absolute_error\n",
    "import matplotlib.pyplot as plt\n",
    "from sklearn.model_selection import cross_val_score, GridSearchCV\n",
    "from scipy import stats\n",
    "import random, operator, time, itertools, math, numpy\n",
    "from deap import algorithms, base, creator, tools\n",
    "import warnings\n",
    "import array"
   ]
  },
  {
   "cell_type": "code",
   "execution_count": 4,
   "metadata": {},
   "outputs": [
    {
     "name": "stdout",
     "output_type": "stream",
     "text": [
      "The shape of the dataframe is: (5875, 22)\n"
     ]
    },
    {
     "data": {
      "text/html": [
       "<div>\n",
       "<style scoped>\n",
       "    .dataframe tbody tr th:only-of-type {\n",
       "        vertical-align: middle;\n",
       "    }\n",
       "\n",
       "    .dataframe tbody tr th {\n",
       "        vertical-align: top;\n",
       "    }\n",
       "\n",
       "    .dataframe thead th {\n",
       "        text-align: right;\n",
       "    }\n",
       "</style>\n",
       "<table border=\"1\" class=\"dataframe\">\n",
       "  <thead>\n",
       "    <tr style=\"text-align: right;\">\n",
       "      <th></th>\n",
       "      <th>subject#</th>\n",
       "      <th>age</th>\n",
       "      <th>sex</th>\n",
       "      <th>test_time</th>\n",
       "      <th>motor_UPDRS</th>\n",
       "      <th>total_UPDRS</th>\n",
       "      <th>Jitter(%)</th>\n",
       "      <th>Jitter(Abs)</th>\n",
       "      <th>Jitter:RAP</th>\n",
       "      <th>Jitter:PPQ5</th>\n",
       "      <th>...</th>\n",
       "      <th>Shimmer(dB)</th>\n",
       "      <th>Shimmer:APQ3</th>\n",
       "      <th>Shimmer:APQ5</th>\n",
       "      <th>Shimmer:APQ11</th>\n",
       "      <th>Shimmer:DDA</th>\n",
       "      <th>NHR</th>\n",
       "      <th>HNR</th>\n",
       "      <th>RPDE</th>\n",
       "      <th>DFA</th>\n",
       "      <th>PPE</th>\n",
       "    </tr>\n",
       "  </thead>\n",
       "  <tbody>\n",
       "    <tr>\n",
       "      <th>0</th>\n",
       "      <td>1</td>\n",
       "      <td>72</td>\n",
       "      <td>0</td>\n",
       "      <td>5.6431</td>\n",
       "      <td>28.199</td>\n",
       "      <td>34.398</td>\n",
       "      <td>0.00662</td>\n",
       "      <td>0.000034</td>\n",
       "      <td>0.00401</td>\n",
       "      <td>0.00317</td>\n",
       "      <td>...</td>\n",
       "      <td>0.230</td>\n",
       "      <td>0.01438</td>\n",
       "      <td>0.01309</td>\n",
       "      <td>0.01662</td>\n",
       "      <td>0.04314</td>\n",
       "      <td>0.014290</td>\n",
       "      <td>21.640</td>\n",
       "      <td>0.41888</td>\n",
       "      <td>0.54842</td>\n",
       "      <td>0.16006</td>\n",
       "    </tr>\n",
       "    <tr>\n",
       "      <th>1</th>\n",
       "      <td>1</td>\n",
       "      <td>72</td>\n",
       "      <td>0</td>\n",
       "      <td>12.6660</td>\n",
       "      <td>28.447</td>\n",
       "      <td>34.894</td>\n",
       "      <td>0.00300</td>\n",
       "      <td>0.000017</td>\n",
       "      <td>0.00132</td>\n",
       "      <td>0.00150</td>\n",
       "      <td>...</td>\n",
       "      <td>0.179</td>\n",
       "      <td>0.00994</td>\n",
       "      <td>0.01072</td>\n",
       "      <td>0.01689</td>\n",
       "      <td>0.02982</td>\n",
       "      <td>0.011112</td>\n",
       "      <td>27.183</td>\n",
       "      <td>0.43493</td>\n",
       "      <td>0.56477</td>\n",
       "      <td>0.10810</td>\n",
       "    </tr>\n",
       "    <tr>\n",
       "      <th>2</th>\n",
       "      <td>1</td>\n",
       "      <td>72</td>\n",
       "      <td>0</td>\n",
       "      <td>19.6810</td>\n",
       "      <td>28.695</td>\n",
       "      <td>35.389</td>\n",
       "      <td>0.00481</td>\n",
       "      <td>0.000025</td>\n",
       "      <td>0.00205</td>\n",
       "      <td>0.00208</td>\n",
       "      <td>...</td>\n",
       "      <td>0.181</td>\n",
       "      <td>0.00734</td>\n",
       "      <td>0.00844</td>\n",
       "      <td>0.01458</td>\n",
       "      <td>0.02202</td>\n",
       "      <td>0.020220</td>\n",
       "      <td>23.047</td>\n",
       "      <td>0.46222</td>\n",
       "      <td>0.54405</td>\n",
       "      <td>0.21014</td>\n",
       "    </tr>\n",
       "    <tr>\n",
       "      <th>3</th>\n",
       "      <td>1</td>\n",
       "      <td>72</td>\n",
       "      <td>0</td>\n",
       "      <td>25.6470</td>\n",
       "      <td>28.905</td>\n",
       "      <td>35.810</td>\n",
       "      <td>0.00528</td>\n",
       "      <td>0.000027</td>\n",
       "      <td>0.00191</td>\n",
       "      <td>0.00264</td>\n",
       "      <td>...</td>\n",
       "      <td>0.327</td>\n",
       "      <td>0.01106</td>\n",
       "      <td>0.01265</td>\n",
       "      <td>0.01963</td>\n",
       "      <td>0.03317</td>\n",
       "      <td>0.027837</td>\n",
       "      <td>24.445</td>\n",
       "      <td>0.48730</td>\n",
       "      <td>0.57794</td>\n",
       "      <td>0.33277</td>\n",
       "    </tr>\n",
       "    <tr>\n",
       "      <th>4</th>\n",
       "      <td>1</td>\n",
       "      <td>72</td>\n",
       "      <td>0</td>\n",
       "      <td>33.6420</td>\n",
       "      <td>29.187</td>\n",
       "      <td>36.375</td>\n",
       "      <td>0.00335</td>\n",
       "      <td>0.000020</td>\n",
       "      <td>0.00093</td>\n",
       "      <td>0.00130</td>\n",
       "      <td>...</td>\n",
       "      <td>0.176</td>\n",
       "      <td>0.00679</td>\n",
       "      <td>0.00929</td>\n",
       "      <td>0.01819</td>\n",
       "      <td>0.02036</td>\n",
       "      <td>0.011625</td>\n",
       "      <td>26.126</td>\n",
       "      <td>0.47188</td>\n",
       "      <td>0.56122</td>\n",
       "      <td>0.19361</td>\n",
       "    </tr>\n",
       "  </tbody>\n",
       "</table>\n",
       "<p>5 rows × 22 columns</p>\n",
       "</div>"
      ],
      "text/plain": [
       "   subject#  age  sex  test_time  motor_UPDRS  total_UPDRS  Jitter(%)  \\\n",
       "0         1   72    0     5.6431       28.199       34.398    0.00662   \n",
       "1         1   72    0    12.6660       28.447       34.894    0.00300   \n",
       "2         1   72    0    19.6810       28.695       35.389    0.00481   \n",
       "3         1   72    0    25.6470       28.905       35.810    0.00528   \n",
       "4         1   72    0    33.6420       29.187       36.375    0.00335   \n",
       "\n",
       "   Jitter(Abs)  Jitter:RAP  Jitter:PPQ5   ...     Shimmer(dB)  Shimmer:APQ3  \\\n",
       "0     0.000034     0.00401      0.00317   ...           0.230       0.01438   \n",
       "1     0.000017     0.00132      0.00150   ...           0.179       0.00994   \n",
       "2     0.000025     0.00205      0.00208   ...           0.181       0.00734   \n",
       "3     0.000027     0.00191      0.00264   ...           0.327       0.01106   \n",
       "4     0.000020     0.00093      0.00130   ...           0.176       0.00679   \n",
       "\n",
       "   Shimmer:APQ5  Shimmer:APQ11  Shimmer:DDA       NHR     HNR     RPDE  \\\n",
       "0       0.01309        0.01662      0.04314  0.014290  21.640  0.41888   \n",
       "1       0.01072        0.01689      0.02982  0.011112  27.183  0.43493   \n",
       "2       0.00844        0.01458      0.02202  0.020220  23.047  0.46222   \n",
       "3       0.01265        0.01963      0.03317  0.027837  24.445  0.48730   \n",
       "4       0.00929        0.01819      0.02036  0.011625  26.126  0.47188   \n",
       "\n",
       "       DFA      PPE  \n",
       "0  0.54842  0.16006  \n",
       "1  0.56477  0.10810  \n",
       "2  0.54405  0.21014  \n",
       "3  0.57794  0.33277  \n",
       "4  0.56122  0.19361  \n",
       "\n",
       "[5 rows x 22 columns]"
      ]
     },
     "execution_count": 4,
     "metadata": {},
     "output_type": "execute_result"
    }
   ],
   "source": [
    "#import Parkinson's Dataset and visualize\n",
    "\n",
    "PDDF =  pd.read_csv(\"C:\\\\Users\\\\gray\\\\Desktop\\\\Evolutionary_Computing\\\\Term_Project\\\\Parkinson's_Data.csv\")\n",
    "print ('The shape of the dataframe is:',PDDF.shape)\n",
    "PDDF.head()"
   ]
  },
  {
   "cell_type": "markdown",
   "metadata": {},
   "source": [
    "#### Initial shuffling and splitting"
   ]
  },
  {
   "cell_type": "code",
   "execution_count": 5,
   "metadata": {},
   "outputs": [],
   "source": [
    "#shuffle the data\n",
    "PDDF = shuffle(PDDF)\n",
    "\n",
    "#isolate features\n",
    "features_to_drop = ['subject#','age','sex','test_time','motor_UPDRS','total_UPDRS']\n",
    "just_features = PDDF.drop(features_to_drop,axis=1)\n",
    "    \n",
    "#isolate motor_UPDRS\n",
    "just_motor = PDDF.motor_UPDRS\n",
    "   \n",
    "#isolate total_UPDRS\n",
    "just_total = PDDF.total_UPDRS\n",
    "\n",
    "#split into training and testing data\n",
    "training_features = just_features[:4700]\n",
    "testing_features = just_features[4700:]\n",
    "    \n",
    "training_motor = just_motor[:4700]\n",
    "testing_motor = just_motor[4700:]\n",
    "    \n",
    "training_total = just_total[:4700]\n",
    "testing_total = just_total[4700:] "
   ]
  },
  {
   "cell_type": "markdown",
   "metadata": {},
   "source": [
    "#### A function for shuffling and splitting the data"
   ]
  },
  {
   "cell_type": "code",
   "execution_count": 6,
   "metadata": {},
   "outputs": [],
   "source": [
    "def shuffleSplit():\n",
    "    '''\n",
    "    Shuffles and splits the DataFrame 80%-20%\n",
    "    '''\n",
    "    global PDDF\n",
    "    \n",
    "    #shuffle the data\n",
    "    PDDF = shuffle(PDDF)\n",
    "\n",
    "    #isolate features\n",
    "    features_to_drop = ['subject#','age','sex','test_time','motor_UPDRS','total_UPDRS']\n",
    "    global just_features\n",
    "    just_features = PDDF.drop(features_to_drop,axis=1)\n",
    "    \n",
    "    #isolate motor_UPDRS\n",
    "    global just_motor\n",
    "    just_motor = PDDF.motor_UPDRS\n",
    "   \n",
    "    #isolate total_UPDRS\n",
    "    global just_total\n",
    "    just_total = PDDF.total_UPDRS\n",
    "\n",
    "    #split into training and testing data\n",
    "    global training_features\n",
    "    training_features = just_features[:4700]\n",
    "    global testing_features\n",
    "    testing_features = just_features[4700:]\n",
    "    \n",
    "    global training_motor\n",
    "    training_motor = just_motor[:4700]\n",
    "    global testing_motor\n",
    "    testing_motor = just_motor[4700:]\n",
    "    \n",
    "    global training_total\n",
    "    training_total = just_total[:4700]\n",
    "    global testing_total\n",
    "    testing_total = just_total[4700:]  \n",
    "    \n",
    "    return"
   ]
  },
  {
   "cell_type": "code",
   "execution_count": 7,
   "metadata": {},
   "outputs": [],
   "source": [
    "#cross validation needs to return the mean absolute error (MAE) for each fold\n",
    "#so i have to make a custom scoring object\n",
    "\n",
    "#create scorer object\n",
    "myScorer = make_scorer(mean_absolute_error)"
   ]
  },
  {
   "cell_type": "code",
   "execution_count": 8,
   "metadata": {},
   "outputs": [
    {
     "data": {
      "text/html": [
       "<div>\n",
       "<style scoped>\n",
       "    .dataframe tbody tr th:only-of-type {\n",
       "        vertical-align: middle;\n",
       "    }\n",
       "\n",
       "    .dataframe tbody tr th {\n",
       "        vertical-align: top;\n",
       "    }\n",
       "\n",
       "    .dataframe thead th {\n",
       "        text-align: right;\n",
       "    }\n",
       "</style>\n",
       "<table border=\"1\" class=\"dataframe\">\n",
       "  <thead>\n",
       "    <tr style=\"text-align: right;\">\n",
       "      <th></th>\n",
       "      <th>subject#</th>\n",
       "      <th>age</th>\n",
       "      <th>sex</th>\n",
       "      <th>test_time</th>\n",
       "      <th>motor_UPDRS</th>\n",
       "      <th>total_UPDRS</th>\n",
       "      <th>Jitter(%)</th>\n",
       "      <th>Jitter(Abs)</th>\n",
       "      <th>Jitter:RAP</th>\n",
       "      <th>Jitter:PPQ5</th>\n",
       "      <th>...</th>\n",
       "      <th>Shimmer(dB)</th>\n",
       "      <th>Shimmer:APQ3</th>\n",
       "      <th>Shimmer:APQ5</th>\n",
       "      <th>Shimmer:APQ11</th>\n",
       "      <th>Shimmer:DDA</th>\n",
       "      <th>NHR</th>\n",
       "      <th>HNR</th>\n",
       "      <th>RPDE</th>\n",
       "      <th>DFA</th>\n",
       "      <th>PPE</th>\n",
       "    </tr>\n",
       "  </thead>\n",
       "  <tbody>\n",
       "    <tr>\n",
       "      <th>1306</th>\n",
       "      <td>9</td>\n",
       "      <td>68</td>\n",
       "      <td>0</td>\n",
       "      <td>56.364</td>\n",
       "      <td>17.0000</td>\n",
       "      <td>24.225</td>\n",
       "      <td>0.00733</td>\n",
       "      <td>0.000059</td>\n",
       "      <td>0.00420</td>\n",
       "      <td>0.00356</td>\n",
       "      <td>...</td>\n",
       "      <td>0.239</td>\n",
       "      <td>0.00969</td>\n",
       "      <td>0.01179</td>\n",
       "      <td>0.01705</td>\n",
       "      <td>0.02906</td>\n",
       "      <td>0.019408</td>\n",
       "      <td>23.531</td>\n",
       "      <td>0.51433</td>\n",
       "      <td>0.73652</td>\n",
       "      <td>0.286340</td>\n",
       "    </tr>\n",
       "    <tr>\n",
       "      <th>926</th>\n",
       "      <td>7</td>\n",
       "      <td>72</td>\n",
       "      <td>0</td>\n",
       "      <td>133.320</td>\n",
       "      <td>15.5710</td>\n",
       "      <td>22.085</td>\n",
       "      <td>0.00399</td>\n",
       "      <td>0.000038</td>\n",
       "      <td>0.00154</td>\n",
       "      <td>0.00228</td>\n",
       "      <td>...</td>\n",
       "      <td>0.188</td>\n",
       "      <td>0.00962</td>\n",
       "      <td>0.01331</td>\n",
       "      <td>0.02072</td>\n",
       "      <td>0.02885</td>\n",
       "      <td>0.009184</td>\n",
       "      <td>22.737</td>\n",
       "      <td>0.46979</td>\n",
       "      <td>0.59728</td>\n",
       "      <td>0.186580</td>\n",
       "    </tr>\n",
       "    <tr>\n",
       "      <th>3034</th>\n",
       "      <td>22</td>\n",
       "      <td>57</td>\n",
       "      <td>1</td>\n",
       "      <td>124.880</td>\n",
       "      <td>9.6352</td>\n",
       "      <td>10.765</td>\n",
       "      <td>0.00198</td>\n",
       "      <td>0.000005</td>\n",
       "      <td>0.00100</td>\n",
       "      <td>0.00115</td>\n",
       "      <td>...</td>\n",
       "      <td>0.125</td>\n",
       "      <td>0.00683</td>\n",
       "      <td>0.00721</td>\n",
       "      <td>0.00858</td>\n",
       "      <td>0.02050</td>\n",
       "      <td>0.001880</td>\n",
       "      <td>31.746</td>\n",
       "      <td>0.27155</td>\n",
       "      <td>0.53508</td>\n",
       "      <td>0.096121</td>\n",
       "    </tr>\n",
       "    <tr>\n",
       "      <th>1994</th>\n",
       "      <td>15</td>\n",
       "      <td>65</td>\n",
       "      <td>0</td>\n",
       "      <td>54.469</td>\n",
       "      <td>11.7890</td>\n",
       "      <td>16.387</td>\n",
       "      <td>0.00404</td>\n",
       "      <td>0.000029</td>\n",
       "      <td>0.00175</td>\n",
       "      <td>0.00169</td>\n",
       "      <td>...</td>\n",
       "      <td>0.268</td>\n",
       "      <td>0.01772</td>\n",
       "      <td>0.01804</td>\n",
       "      <td>0.02631</td>\n",
       "      <td>0.05315</td>\n",
       "      <td>0.012617</td>\n",
       "      <td>25.899</td>\n",
       "      <td>0.60989</td>\n",
       "      <td>0.64045</td>\n",
       "      <td>0.142060</td>\n",
       "    </tr>\n",
       "    <tr>\n",
       "      <th>3640</th>\n",
       "      <td>27</td>\n",
       "      <td>57</td>\n",
       "      <td>1</td>\n",
       "      <td>98.467</td>\n",
       "      <td>11.5590</td>\n",
       "      <td>15.559</td>\n",
       "      <td>0.00516</td>\n",
       "      <td>0.000030</td>\n",
       "      <td>0.00268</td>\n",
       "      <td>0.00260</td>\n",
       "      <td>...</td>\n",
       "      <td>0.242</td>\n",
       "      <td>0.01500</td>\n",
       "      <td>0.01452</td>\n",
       "      <td>0.02086</td>\n",
       "      <td>0.04499</td>\n",
       "      <td>0.007013</td>\n",
       "      <td>24.952</td>\n",
       "      <td>0.56507</td>\n",
       "      <td>0.74094</td>\n",
       "      <td>0.213010</td>\n",
       "    </tr>\n",
       "  </tbody>\n",
       "</table>\n",
       "<p>5 rows × 22 columns</p>\n",
       "</div>"
      ],
      "text/plain": [
       "      subject#  age  sex  test_time  motor_UPDRS  total_UPDRS  Jitter(%)  \\\n",
       "1306         9   68    0     56.364      17.0000       24.225    0.00733   \n",
       "926          7   72    0    133.320      15.5710       22.085    0.00399   \n",
       "3034        22   57    1    124.880       9.6352       10.765    0.00198   \n",
       "1994        15   65    0     54.469      11.7890       16.387    0.00404   \n",
       "3640        27   57    1     98.467      11.5590       15.559    0.00516   \n",
       "\n",
       "      Jitter(Abs)  Jitter:RAP  Jitter:PPQ5    ...     Shimmer(dB)  \\\n",
       "1306     0.000059     0.00420      0.00356    ...           0.239   \n",
       "926      0.000038     0.00154      0.00228    ...           0.188   \n",
       "3034     0.000005     0.00100      0.00115    ...           0.125   \n",
       "1994     0.000029     0.00175      0.00169    ...           0.268   \n",
       "3640     0.000030     0.00268      0.00260    ...           0.242   \n",
       "\n",
       "      Shimmer:APQ3  Shimmer:APQ5  Shimmer:APQ11  Shimmer:DDA       NHR  \\\n",
       "1306       0.00969       0.01179        0.01705      0.02906  0.019408   \n",
       "926        0.00962       0.01331        0.02072      0.02885  0.009184   \n",
       "3034       0.00683       0.00721        0.00858      0.02050  0.001880   \n",
       "1994       0.01772       0.01804        0.02631      0.05315  0.012617   \n",
       "3640       0.01500       0.01452        0.02086      0.04499  0.007013   \n",
       "\n",
       "         HNR     RPDE      DFA       PPE  \n",
       "1306  23.531  0.51433  0.73652  0.286340  \n",
       "926   22.737  0.46979  0.59728  0.186580  \n",
       "3034  31.746  0.27155  0.53508  0.096121  \n",
       "1994  25.899  0.60989  0.64045  0.142060  \n",
       "3640  24.952  0.56507  0.74094  0.213010  \n",
       "\n",
       "[5 rows x 22 columns]"
      ]
     },
     "execution_count": 8,
     "metadata": {},
     "output_type": "execute_result"
    }
   ],
   "source": [
    "PDDF.head()"
   ]
  },
  {
   "cell_type": "markdown",
   "metadata": {},
   "source": [
    "# Scikit Learn MLP"
   ]
  },
  {
   "cell_type": "markdown",
   "metadata": {},
   "source": [
    "## Baselines for untuned, default MLP regressors"
   ]
  },
  {
   "cell_type": "markdown",
   "metadata": {},
   "source": [
    "### 5-fold cross validated training MAE of an untuned MLP regressor targeting motor_UPDRS"
   ]
  },
  {
   "cell_type": "code",
   "execution_count": 9,
   "metadata": {},
   "outputs": [
    {
     "name": "stdout",
     "output_type": "stream",
     "text": [
      "MAE: 6.956135109977886\n"
     ]
    }
   ],
   "source": [
    "#5-fold cross validated untuned MLP targeting motor_UPDRS\n",
    "\n",
    "MLP = MLPRegressor()\n",
    "\n",
    "#5-fold CV\n",
    "vals = cross_val_score(MLP,training_features,training_motor,cv=5, scoring=myScorer)\n",
    "print(\"MAE: {}\".format(vals.mean()))"
   ]
  },
  {
   "cell_type": "markdown",
   "metadata": {},
   "source": [
    "### 5-fold cross validated training MAE of an untuned MLP regressor targeting total_UPDRS"
   ]
  },
  {
   "cell_type": "code",
   "execution_count": 40,
   "metadata": {},
   "outputs": [
    {
     "name": "stdout",
     "output_type": "stream",
     "text": [
      "MAE: 8.594094070273957\n"
     ]
    }
   ],
   "source": [
    "#5-fold cross validated untuned MLP targeting total_UPDRS\n",
    "\n",
    "MLP = MLPRegressor()\n",
    "\n",
    "#5-fold CV\n",
    "vals = cross_val_score(MLP,training_features,training_total,cv=5, scoring=myScorer)\n",
    "print(\"MAE: {}\".format(vals.mean()))"
   ]
  },
  {
   "cell_type": "markdown",
   "metadata": {},
   "source": [
    "### Idea is to use evolutionary computation to optimize MLP hyperparameters\n",
    "    *Fix weight solver to 'adam' \n",
    "    \n",
    "    \n",
    "    \n",
    "    - Hyperparameters to tune: \n",
    "        - Neurons in the first hidden layer\n",
    "        - Neurons in the second hidden layer\n",
    "        - Activation function for the hidden layers\n",
    "        - Algorithm for weight optimization\n",
    "        - Alpha: L2 penalty parameter\n",
    "    - Fitness evaluation:\n",
    "        - round floats to ints (if needed)\n",
    "        - convert ints to the values they represent (if needed)\n",
    "        - Train NN on training data (80%)\n",
    "        - Make predictions using testing data (20%)\n",
    "        - Fitness is mean abosolute error (MAE) between predicted and actual values\n",
    "    - Genotype:\n",
    "        - float string of length 6\n",
    "    - Phenotype (hyperparameters for NN):\n",
    "        - size_layer1\n",
    "            - number of neurons in the first hidden layer\n",
    "        - size_layer2\n",
    "            - number of neurons in the second hidden layer\n",
    "        - activaton_function\n",
    "            - 0 : identity, 1: logistic, 2: tanh, 3: relu\n",
    "        - weight fittting algorithm\n",
    "            - 0: lbfgs, 1: sgd, 2: adam\n",
    "        - alpha\n",
    "            - real value between 0.0001 and 1000"
   ]
  },
  {
   "cell_type": "markdown",
   "metadata": {},
   "source": [
    "### Fitness Evaluation Functon for Motor UPDRS"
   ]
  },
  {
   "cell_type": "code",
   "execution_count": 42,
   "metadata": {},
   "outputs": [],
   "source": [
    "'''\n",
    "size_layer1, activation_function, optimization_algorithm, alpha value, size_layer2\n",
    "'''\n",
    "def MLP_Eval_Motor(vals):\n",
    "    \n",
    "    #genotypes is real valued so some alleles need to be \n",
    "    #rounded to nearest int\n",
    "    \n",
    "    vals[0] = round(vals[0])\n",
    "    vals[1] = round(vals[1])\n",
    "    vals[2] = round(vals[2])\n",
    "    vals[4] = round(vals[4])\n",
    "    \n",
    "    #if params are out of bounds, place them back in bounds\n",
    "    if vals[0] <= 0:\n",
    "        vals[0] = 1        #size of hidden layer1\n",
    "    if vals[0] > 100:\n",
    "        vals[0] = 100\n",
    "        \n",
    "    if vals[4] <= 0:\n",
    "        vals[4] = 1        #size of hidden layer2\n",
    "    if vals[4] > 100:\n",
    "        vals[4] = 100 \n",
    "\n",
    "    if vals[1] < 0:\n",
    "        vals[1] = 0     #activation function\n",
    "    if vals[1] > 3:\n",
    "        vals[1] = 3\n",
    "        \n",
    "    if vals[2] < 0:\n",
    "        vals[2] = 0   #optimization algorithm\n",
    "    if vals[2] > 2:\n",
    "        vals[2] = 2\n",
    "        \n",
    "    if vals[3] < 0.0001:\n",
    "        vals[3] = .0001\n",
    "    if vals[3] > 1000:\n",
    "        vals[3] = 1000\n",
    "        \n",
    "    #assign vals to int alleles (if necessary)\n",
    "    if vals[1] == 0:\n",
    "        AF = 'identity'\n",
    "    if vals[1] == 1:\n",
    "        AF = 'logistic'    #activation function\n",
    "    if vals[1] == 2:\n",
    "        AF = 'tanh'\n",
    "    if vals[1] == 3:\n",
    "        AF = 'relu'\n",
    "\n",
    "    if vals[2] == 0:\n",
    "        OA = 'lbfgs'\n",
    "    if vals[2] == 1:\n",
    "        OA = 'sgd'    #optimization algorithm\n",
    "    if vals[2] == 2:\n",
    "        OA = 'adam'\n",
    "    \n",
    "    #construct phenotype\n",
    "    MLP = MLPRegressor(hidden_layer_sizes=(vals[0],vals[4],), activation=AF, solver=OA, alpha = vals[3])\n",
    "\n",
    "    #some phenotypes will throw an error\n",
    "    try:\n",
    "        #train NN\n",
    "        MLP.fit(training_features, training_motor)\n",
    "        #make predictions using testing data\n",
    "        predicts = (MLP.predict(testing_features)).astype(float)\n",
    "        #compare predicts and actual and record mean absolute error\n",
    "        MAE = mean_absolute_error(testing_motor,predicts)\n",
    "        goodPredicts = True\n",
    "    #if there is an error in fitting or evaluating the MLP,\n",
    "    #this candidate solution is clearly bad\n",
    "    except:\n",
    "        MAE = 1000\n",
    "    \n",
    "    #return MAE as fitness\n",
    "    return (MAE,)"
   ]
  },
  {
   "cell_type": "markdown",
   "metadata": {},
   "source": [
    "### Fitness Evaluation Functon for Total UPDRS"
   ]
  },
  {
   "cell_type": "code",
   "execution_count": 43,
   "metadata": {},
   "outputs": [],
   "source": [
    "'''\n",
    "size_layer1, activation_function, optimization_algorithm, alpha value, size_layer2\n",
    "'''\n",
    "def MLP_Eval_Total(vals):\n",
    "    \n",
    "    #genotypes is real valued so some alleles need to be \n",
    "    #rounded to nearest int\n",
    "    \n",
    "    vals[0] = round(vals[0])\n",
    "    vals[1] = round(vals[1])\n",
    "    vals[2] = round(vals[2])\n",
    "    vals[4] = round(vals[4])\n",
    "    \n",
    "    #if params are out of bounds, place them back in bounds\n",
    "    if vals[0] <= 0:\n",
    "        vals[0] = 1        #size of hidden layer1\n",
    "    if vals[0] > 100:\n",
    "        vals[0] = 100\n",
    "        \n",
    "    if vals[4] <= 0:\n",
    "        vals[4] = 1        #size of hidden layer2\n",
    "    if vals[4] > 100:\n",
    "        vals[4] = 100 \n",
    "\n",
    "    if vals[1] < 0:\n",
    "        vals[1] = 0     #activation function\n",
    "    if vals[1] > 3:\n",
    "        vals[1] = 3\n",
    "        \n",
    "    if vals[2] < 0:\n",
    "        vals[2] = 0   #optimization algorithm\n",
    "    if vals[2] > 2:\n",
    "        vals[2] = 2\n",
    "        \n",
    "    if vals[3] < 0.0001:\n",
    "        vals[3] = .0001\n",
    "    if vals[3] > 1000:\n",
    "        vals[3] = 1000\n",
    "        \n",
    "    #assign vals to int alleles (if necessary)\n",
    "    if vals[1] == 0:\n",
    "        AF = 'identity'\n",
    "    if vals[1] == 1:\n",
    "        AF = 'logistic'    #activation function\n",
    "    if vals[1] == 2:\n",
    "        AF = 'tanh'\n",
    "    if vals[1] == 3:\n",
    "        AF = 'relu'\n",
    "\n",
    "    if vals[2] == 0:\n",
    "        OA = 'lbfgs'\n",
    "    if vals[2] == 1:\n",
    "        OA = 'sgd'    #optimization algorithm\n",
    "    if vals[2] == 2:\n",
    "        OA = 'adam'\n",
    "    \n",
    "    #construct phenotype\n",
    "    MLP = MLPRegressor(hidden_layer_sizes=(vals[0],vals[4],), activation=AF, solver=OA, alpha = vals[3])\n",
    "\n",
    "    #some phenotypes will throw an error\n",
    "    try:\n",
    "        #train NN\n",
    "        MLP.fit(training_features, training_total)\n",
    "        #make predictions using testing data\n",
    "        predicts = (MLP.predict(testing_features)).astype(float)\n",
    "        #compare predicts and actual and record mean absolute error\n",
    "        MAE = mean_absolute_error(testing_total,predicts)\n",
    "        goodPredicts = True\n",
    "    #if there is an error in fitting or evaluating the MLP,\n",
    "    #this candidate solution is clearly bad\n",
    "    except:\n",
    "        MAE = 1000\n",
    "    \n",
    "    #return MAE as fitness\n",
    "    return (MAE,)"
   ]
  },
  {
   "cell_type": "markdown",
   "metadata": {},
   "source": [
    "### Function for Generating Individuals"
   ]
  },
  {
   "cell_type": "code",
   "execution_count": 21,
   "metadata": {},
   "outputs": [],
   "source": [
    "#generates an individual with random number of nodes in hidden layer 1,\n",
    "#random number of nodes in hidden layer 2,\n",
    "#random activation function, and random weight optimizer \n",
    "#within the restrictions\n",
    "def Generate_Individual():\n",
    "    individual = [random.uniform(1,101),random.uniform(0,4), random.uniform(0,3), random.uniform(0.001,1000),random.uniform(0,101)]\n",
    "    return individual"
   ]
  },
  {
   "cell_type": "code",
   "execution_count": 23,
   "metadata": {},
   "outputs": [
    {
     "name": "stdout",
     "output_type": "stream",
     "text": [
      "[95.12069331665627, 0.7205813124836169, 1.70550157651737, 821.916873965368, 40.901309260890486]\n"
     ]
    },
    {
     "name": "stderr",
     "output_type": "stream",
     "text": [
      "C:\\Users\\gray\\Anaconda3\\lib\\site-packages\\sklearn\\neural_network\\multilayer_perceptron.py:564: ConvergenceWarning: Stochastic Optimizer: Maximum iterations (200) reached and the optimization hasn't converged yet.\n",
      "  % self.max_iter, ConvergenceWarning)\n"
     ]
    },
    {
     "data": {
      "text/plain": [
       "(8.694249991467276,)"
      ]
     },
     "execution_count": 23,
     "metadata": {},
     "output_type": "execute_result"
    }
   ],
   "source": [
    "indiv = Generate_Individual()\n",
    "print(indiv)\n",
    "MLP_Eval(indiv)"
   ]
  },
  {
   "cell_type": "markdown",
   "metadata": {},
   "source": [
    "### Create FitnessMin and Individual classes"
   ]
  },
  {
   "cell_type": "code",
   "execution_count": 45,
   "metadata": {},
   "outputs": [],
   "source": [
    "#python throws a warning due to an intentional duplicate class\n",
    "import warnings\n",
    "warnings.filterwarnings('ignore')"
   ]
  },
  {
   "cell_type": "code",
   "execution_count": 24,
   "metadata": {},
   "outputs": [],
   "source": [
    "#the fitness function is to be minimized\n",
    "creator.create(\"FitnessMin\", base.Fitness, weights=(-1.0,))\n",
    "#an individual is composed of a list of vals with fitness to be minimized\n",
    "creator.create(\"Individual\", list, fitness=creator.FitnessMin)"
   ]
  },
  {
   "cell_type": "markdown",
   "metadata": {},
   "source": [
    "### Toolbox"
   ]
  },
  {
   "cell_type": "code",
   "execution_count": 46,
   "metadata": {},
   "outputs": [],
   "source": [
    "#instantiate toolbox\n",
    "toolbox = base.Toolbox()\n",
    "#tool to create an individual\n",
    "toolbox.register(\"individual\", tools.initIterate, creator.Individual, Generate_Individual)\n",
    "#tool to create a population\n",
    "toolbox.register(\"population\", tools.initRepeat, list, toolbox.individual)\n",
    "#tool for fitness evaluation\n",
    "toolbox.register(\"evaluate\", MLP_Eval_Motor)\n",
    "\n",
    "#tool for crossover (one point)\n",
    "toolbox.register(\"mate\", tools.cxOnePoint)\n",
    "#mutation is gaussian mutation\n",
    "toolbox.register(\"mutate\", tools.mutGaussian, mu=0,sigma=1,indpb=0.1)\n",
    "#tool for tournament selection\n",
    "toolbox.register(\"select\", tools.selTournament, tournsize=3)"
   ]
  },
  {
   "cell_type": "code",
   "execution_count": 47,
   "metadata": {},
   "outputs": [
    {
     "name": "stderr",
     "output_type": "stream",
     "text": [
      "C:\\Users\\gray\\Anaconda3\\lib\\site-packages\\sklearn\\neural_network\\multilayer_perceptron.py:564: ConvergenceWarning: Stochastic Optimizer: Maximum iterations (200) reached and the optimization hasn't converged yet.\n",
      "  % self.max_iter, ConvergenceWarning)\n"
     ]
    },
    {
     "name": "stdout",
     "output_type": "stream",
     "text": [
      "gen\tnevals\n",
      "0  \t20    \n",
      "1  \t20    \n",
      "2  \t20    \n",
      "3  \t20    \n",
      "4  \t20    \n",
      "5  \t20    \n",
      "6  \t20    \n",
      "7  \t20    \n",
      "8  \t20    \n",
      "9  \t20    \n",
      "10 \t20    \n"
     ]
    }
   ],
   "source": [
    "#run the algorithm\n",
    "\n",
    "#generate the intial population (10 * number of dimensions)\n",
    "pop = toolbox.population(n=20)\n",
    "#Object for recording best candidate to ever live\n",
    "HOF = tools.HallOfFame(1)\n",
    "#run the algorithm\n",
    "result, log = algorithms.eaSimple(pop, toolbox,halloffame=HOF, cxpb=0.7, mutpb=1, ngen=10, verbose=True)"
   ]
  },
  {
   "cell_type": "code",
   "execution_count": 48,
   "metadata": {},
   "outputs": [
    {
     "data": {
      "text/plain": [
       "[[24, 2, 0, 54.576964869021865, 5],\n",
       " [24, 2, 0, 54.576964869021865, 54],\n",
       " [25, 2, 0, 52.67023688866282, 4],\n",
       " [24, 2, 0, 148.14067778104987, 6],\n",
       " [24, 3, 0, 54.576964869021865, 5],\n",
       " [24, 2, 0, 54.576964869021865, 5],\n",
       " [24, 2, 0, 52.67023688866282, 5],\n",
       " [24, 2, 0, 54.576964869021865, 54],\n",
       " [24, 2, 0, 148.14067778104987, 6],\n",
       " [24, 2, 0, 148.500108572079, 6],\n",
       " [24, 2, 0, 147.2682134442826, 72],\n",
       " [24, 2, 0, 54.576964869021865, 54],\n",
       " [24, 2, 0, 52.67023688866282, 5],\n",
       " [24, 1, 0, 54.576964869021865, 5],\n",
       " [24, 2, 0, 54.576964869021865, 5],\n",
       " [24, 2, 0, 148.500108572079, 6],\n",
       " [24, 2, 0, 148.500108572079, 6],\n",
       " [24, 2, 0, 54.576964869021865, 54],\n",
       " [25, 2, 0, 54.576964869021865, 5],\n",
       " [24, 2, 0, 54.576964869021865, 54]]"
      ]
     },
     "execution_count": 48,
     "metadata": {},
     "output_type": "execute_result"
    }
   ],
   "source": [
    "result"
   ]
  },
  {
   "cell_type": "code",
   "execution_count": 9,
   "metadata": {},
   "outputs": [
    {
     "ename": "NameError",
     "evalue": "name 'MLP_Eval' is not defined",
     "output_type": "error",
     "traceback": [
      "\u001b[1;31m---------------------------------------------------------------------------\u001b[0m",
      "\u001b[1;31mNameError\u001b[0m                                 Traceback (most recent call last)",
      "\u001b[1;32m<ipython-input-9-49e26b9a7874>\u001b[0m in \u001b[0;36m<module>\u001b[1;34m()\u001b[0m\n\u001b[0;32m      1\u001b[0m \u001b[1;33m\u001b[0m\u001b[0m\n\u001b[1;32m----> 2\u001b[1;33m \u001b[0mMLP_Eval\u001b[0m\u001b[1;33m(\u001b[0m\u001b[0mHOF\u001b[0m\u001b[1;33m.\u001b[0m\u001b[0mitems\u001b[0m\u001b[1;33m[\u001b[0m\u001b[1;36m0\u001b[0m\u001b[1;33m]\u001b[0m\u001b[1;33m)\u001b[0m\u001b[1;33m\u001b[0m\u001b[0m\n\u001b[0m",
      "\u001b[1;31mNameError\u001b[0m: name 'MLP_Eval' is not defined"
     ]
    }
   ],
   "source": [
    "\n",
    "MLP_Eval(HOF.items[0])"
   ]
  },
  {
   "cell_type": "code",
   "execution_count": null,
   "metadata": {},
   "outputs": [],
   "source": []
  },
  {
   "cell_type": "code",
   "execution_count": null,
   "metadata": {},
   "outputs": [],
   "source": []
  },
  {
   "cell_type": "code",
   "execution_count": null,
   "metadata": {},
   "outputs": [],
   "source": []
  },
  {
   "cell_type": "code",
   "execution_count": null,
   "metadata": {},
   "outputs": [],
   "source": []
  },
  {
   "cell_type": "code",
   "execution_count": null,
   "metadata": {},
   "outputs": [],
   "source": []
  },
  {
   "cell_type": "code",
   "execution_count": null,
   "metadata": {},
   "outputs": [],
   "source": []
  },
  {
   "cell_type": "code",
   "execution_count": null,
   "metadata": {},
   "outputs": [],
   "source": []
  },
  {
   "cell_type": "code",
   "execution_count": null,
   "metadata": {},
   "outputs": [],
   "source": []
  },
  {
   "cell_type": "code",
   "execution_count": null,
   "metadata": {},
   "outputs": [],
   "source": []
  },
  {
   "cell_type": "code",
   "execution_count": null,
   "metadata": {},
   "outputs": [],
   "source": []
  },
  {
   "cell_type": "code",
   "execution_count": null,
   "metadata": {},
   "outputs": [],
   "source": []
  },
  {
   "cell_type": "code",
   "execution_count": null,
   "metadata": {},
   "outputs": [],
   "source": []
  },
  {
   "cell_type": "markdown",
   "metadata": {},
   "source": [
    "# Evolving NN Weights"
   ]
  },
  {
   "cell_type": "markdown",
   "metadata": {},
   "source": [
    "## 5-Fold Cross Validation to Determine Optimum Number of Hidden Nodes "
   ]
  },
  {
   "cell_type": "markdown",
   "metadata": {},
   "source": [
    "#### Compare 8 nodes in hidden layer to 128"
   ]
  },
  {
   "cell_type": "code",
   "execution_count": 56,
   "metadata": {},
   "outputs": [
    {
     "name": "stderr",
     "output_type": "stream",
     "text": [
      "C:\\Users\\gray\\Anaconda3\\lib\\site-packages\\sklearn\\neural_network\\multilayer_perceptron.py:564: ConvergenceWarning: Stochastic Optimizer: Maximum iterations (200) reached and the optimization hasn't converged yet.\n",
      "  % self.max_iter, ConvergenceWarning)\n",
      "C:\\Users\\gray\\Anaconda3\\lib\\site-packages\\sklearn\\neural_network\\multilayer_perceptron.py:564: ConvergenceWarning: Stochastic Optimizer: Maximum iterations (200) reached and the optimization hasn't converged yet.\n",
      "  % self.max_iter, ConvergenceWarning)\n",
      "C:\\Users\\gray\\Anaconda3\\lib\\site-packages\\sklearn\\neural_network\\multilayer_perceptron.py:564: ConvergenceWarning: Stochastic Optimizer: Maximum iterations (200) reached and the optimization hasn't converged yet.\n",
      "  % self.max_iter, ConvergenceWarning)\n"
     ]
    },
    {
     "name": "stdout",
     "output_type": "stream",
     "text": [
      "The 5-fold CV'd MAE with 8 nodes in the hidden layer is: 6.974299956063492\n"
     ]
    }
   ],
   "source": [
    "#5-fold cross validated untuned MLP targeting motor_UPDRS\n",
    "\n",
    "MLP = MLPRegressor(hidden_layer_sizes=(8,))\n",
    "\n",
    "#5-fold CV\n",
    "vals = cross_val_score(MLP,training_features,training_motor,cv=5, scoring=myScorer)\n",
    "print(\"The 5-fold CV'd MAE with 8 nodes in the hidden layer is: {}\".format(vals.mean()))"
   ]
  },
  {
   "cell_type": "markdown",
   "metadata": {},
   "source": [
    "#### ^ the NN is not converging with only 8 hidden nodes. Needs more"
   ]
  },
  {
   "cell_type": "code",
   "execution_count": 59,
   "metadata": {},
   "outputs": [
    {
     "name": "stdout",
     "output_type": "stream",
     "text": [
      "The 5-fold CV'd MAE with 128 nodes in the hidden layer is: 6.907500972834988\n"
     ]
    }
   ],
   "source": [
    "#5-fold cross validated untuned MLP targeting motor_UPDRS\n",
    "\n",
    "MLP = MLPRegressor(hidden_layer_sizes=(128,))\n",
    "\n",
    "#5-fold CV\n",
    "vals = cross_val_score(MLP,training_features,training_motor,cv=5, scoring=myScorer)\n",
    "print(\"The 5-fold CV'd MAE with 128 nodes in the hidden layer is: {}\".format(vals.mean()))"
   ]
  },
  {
   "cell_type": "markdown",
   "metadata": {},
   "source": [
    "#### 128 converges and has better MAE, but can we get the same result with less nodes?"
   ]
  },
  {
   "cell_type": "code",
   "execution_count": 62,
   "metadata": {},
   "outputs": [
    {
     "name": "stdout",
     "output_type": "stream",
     "text": [
      "The 5-fold CV'd MAE with 64 nodes in the hidden layer is: 6.907716044950663\n"
     ]
    }
   ],
   "source": [
    "#5-fold cross validated untuned MLP targeting motor_UPDRS\n",
    "\n",
    "MLP = MLPRegressor(hidden_layer_sizes=(64,))\n",
    "\n",
    "#5-fold CV\n",
    "vals = cross_val_score(MLP,training_features,training_motor,cv=5, scoring=myScorer)\n",
    "print(\"The 5-fold CV'd MAE with 64 nodes in the hidden layer is: {}\".format(vals.mean()))"
   ]
  },
  {
   "cell_type": "markdown",
   "metadata": {},
   "source": [
    "#### Accuracy is the same with half the nodes. Let's try 32"
   ]
  },
  {
   "cell_type": "code",
   "execution_count": 67,
   "metadata": {},
   "outputs": [
    {
     "name": "stdout",
     "output_type": "stream",
     "text": [
      "The 5-fold CV'd MAE with 32 nodes in the hidden layer is: 6.934125781786435\n"
     ]
    }
   ],
   "source": [
    "#5-fold cross validated untuned MLP targeting motor_UPDRS\n",
    "\n",
    "MLP = MLPRegressor(hidden_layer_sizes=(32,))\n",
    "\n",
    "#5-fold CV\n",
    "vals = cross_val_score(MLP,training_features,training_motor,cv=5, scoring=myScorer)\n",
    "print(\"The 5-fold CV'd MAE with 32 nodes in the hidden layer is: {}\".format(vals.mean()))"
   ]
  },
  {
   "cell_type": "markdown",
   "metadata": {},
   "source": [
    "#### Accuracy is worse. 64 nodes in the hidden layer is our sweet spot"
   ]
  },
  {
   "cell_type": "markdown",
   "metadata": {},
   "source": [
    "## Evolving NN Weights with a Genetic Algorithm"
   ]
  },
  {
   "cell_type": "markdown",
   "metadata": {},
   "source": [
    "#### Evaluation Function"
   ]
  },
  {
   "cell_type": "code",
   "execution_count": 17,
   "metadata": {},
   "outputs": [],
   "source": [
    "def evalNN(individual):\n",
    "    \"\"\"\n",
    "    Takes the actual UPDRS values (either motor or total) and an np \n",
    "    array of length 1088, extracts the weight matrices,\n",
    "    runs the neural network, and calculates the mean absolute \n",
    "    error between predicted UPDRS and actual UPDRS\n",
    "    \"\"\"\n",
    "    #extract weight matrices\n",
    "    weights1 = np.array(individual[0:1024]).reshape(16,64)\n",
    "    weights2 = np.array(individual[1024:]).reshape(64,1)\n",
    "    \n",
    "    \n",
    "    #perform matrix operations that take place inside the \n",
    "    #neural network\n",
    "    \n",
    "    #matrix multiplication between feature matrix and weights of hidden layer\n",
    "    hidden = np.matmul(training_features,weights1)\n",
    "    #add biases of hidden layer to this\n",
    "    hidden = hidden + 1\n",
    "    \n",
    "    #perform ReLu activation function\n",
    "    np.maximum(hidden,0,hidden)\n",
    "    \n",
    "    #matrix multiplication between the result of the hidden layer and \n",
    "    #the weights of the output layer\n",
    "    final = np.matmul(hidden,weights2)\n",
    "\n",
    "    #activation function for output node of regression is linear\n",
    "    #so this is result of the neural network\n",
    "    \n",
    "    #calculate mean absolute error between predicted and actual and return \n",
    "    MAE =  mean_absolute_error(training_motor,final)\n",
    "    return (MAE,)"
   ]
  },
  {
   "cell_type": "markdown",
   "metadata": {},
   "source": [
    "#### Function for generating an individual"
   ]
  },
  {
   "cell_type": "code",
   "execution_count": 98,
   "metadata": {},
   "outputs": [],
   "source": [
    "def Generate_Individual():\n",
    "    #individuals generated from the standard normal distribution: mu=0, std=1\n",
    "    individual = np.random.normal(0,1,1088)\n",
    "    return individual"
   ]
  },
  {
   "cell_type": "markdown",
   "metadata": {},
   "source": [
    "#### Create FitnessMin and Individual classes"
   ]
  },
  {
   "cell_type": "code",
   "execution_count": 99,
   "metadata": {},
   "outputs": [
    {
     "name": "stderr",
     "output_type": "stream",
     "text": [
      "C:\\Users\\gray\\Anaconda3\\lib\\site-packages\\deap\\creator.py:141: RuntimeWarning: A class named 'FitnessMin' has already been created and it will be overwritten. Consider deleting previous creation of that class or rename it.\n",
      "  RuntimeWarning)\n",
      "C:\\Users\\gray\\Anaconda3\\lib\\site-packages\\deap\\creator.py:141: RuntimeWarning: A class named 'Individual' has already been created and it will be overwritten. Consider deleting previous creation of that class or rename it.\n",
      "  RuntimeWarning)\n"
     ]
    }
   ],
   "source": [
    "#the fitness function is to be minimized\n",
    "creator.create(\"FitnessMin\", base.Fitness, weights=(-1.0,))\n",
    "#an individual is composed of a list of vals with fitness to be minimized\n",
    "creator.create(\"Individual\", list, fitness=creator.FitnessMin)"
   ]
  },
  {
   "cell_type": "markdown",
   "metadata": {},
   "source": [
    "#### Toolbox"
   ]
  },
  {
   "cell_type": "code",
   "execution_count": 100,
   "metadata": {},
   "outputs": [],
   "source": [
    "#instantiate toolbox\n",
    "toolbox = base.Toolbox()\n",
    "#tool to create an individual\n",
    "toolbox.register(\"individual\", tools.initIterate, creator.Individual, Generate_Individual)\n",
    "#tool to create a population\n",
    "toolbox.register(\"population\", tools.initRepeat, list, toolbox.individual)\n",
    "#tool for fitness evaluation\n",
    "toolbox.register(\"evaluate\", evalNN)\n",
    "\n",
    "#tool for crossover (one point)\n",
    "toolbox.register(\"mate\", tools.cxOnePoint)\n",
    "#mutation is gaussian mutation\n",
    "toolbox.register(\"mutate\", tools.mutGaussian, mu=0,sigma=1.0,indpb=(1/1088))\n",
    "#tool for tournament selection\n",
    "toolbox.register(\"select\", tools.selTournament, tournsize=50)"
   ]
  },
  {
   "cell_type": "code",
   "execution_count": 101,
   "metadata": {},
   "outputs": [
    {
     "data": {
      "text/plain": [
       "(159.63182079007703,)"
      ]
     },
     "execution_count": 101,
     "metadata": {},
     "output_type": "execute_result"
    }
   ],
   "source": [
    "evalNN(toolbox.individual())"
   ]
  },
  {
   "cell_type": "code",
   "execution_count": 104,
   "metadata": {},
   "outputs": [
    {
     "name": "stdout",
     "output_type": "stream",
     "text": [
      "2.8745819325491113\n",
      "-2.8234171785759448\n"
     ]
    }
   ],
   "source": [
    "ini = toolbox.individual()\n",
    "print (max(ini))\n",
    "print (min(ini))"
   ]
  },
  {
   "cell_type": "markdown",
   "metadata": {},
   "source": [
    "#### Run the algorithm"
   ]
  },
  {
   "cell_type": "code",
   "execution_count": 92,
   "metadata": {},
   "outputs": [
    {
     "name": "stdout",
     "output_type": "stream",
     "text": [
      "gen\tnevals\n",
      "0  \t3000  \n",
      "1  \t3000  \n",
      "2  \t3000  \n",
      "3  \t3000  \n",
      "4  \t3000  \n",
      "5  \t3000  \n"
     ]
    }
   ],
   "source": [
    "#run the algorithm\n",
    "\n",
    "#generate the intial population (10 * number of dimensions)\n",
    "pop = toolbox.population(n=3000)\n",
    "#Object for recording best candidate to ever live\n",
    "HOF = tools.HallOfFame(1)\n",
    "#run the algorithm\n",
    "result, log = algorithms.eaSimple(pop, toolbox,halloffame=HOF, cxpb=0.7, mutpb=1, ngen=5, verbose=True)"
   ]
  },
  {
   "cell_type": "code",
   "execution_count": 93,
   "metadata": {},
   "outputs": [
    {
     "name": "stdout",
     "output_type": "stream",
     "text": [
      "4.041972827555817\n",
      "-2.5098375082051225\n"
     ]
    },
    {
     "data": {
      "text/plain": [
       "(6.879379425004331,)"
      ]
     },
     "execution_count": 93,
     "metadata": {},
     "output_type": "execute_result"
    }
   ],
   "source": [
    "print (max(HOF.items[0]))\n",
    "print (min(HOF.items[0]))\n",
    "evalNN(HOF.items[0])"
   ]
  },
  {
   "cell_type": "markdown",
   "metadata": {},
   "source": [
    "## Evolve NN Weights with Evolution Strategies"
   ]
  },
  {
   "cell_type": "markdown",
   "metadata": {},
   "source": [
    "### Creator"
   ]
  },
  {
   "cell_type": "code",
   "execution_count": 94,
   "metadata": {},
   "outputs": [
    {
     "name": "stderr",
     "output_type": "stream",
     "text": [
      "C:\\Users\\gray\\Anaconda3\\lib\\site-packages\\deap\\creator.py:141: RuntimeWarning: A class named 'FitnessMin' has already been created and it will be overwritten. Consider deleting previous creation of that class or rename it.\n",
      "  RuntimeWarning)\n",
      "C:\\Users\\gray\\Anaconda3\\lib\\site-packages\\deap\\creator.py:141: RuntimeWarning: A class named 'Individual' has already been created and it will be overwritten. Consider deleting previous creation of that class or rename it.\n",
      "  RuntimeWarning)\n",
      "C:\\Users\\gray\\Anaconda3\\lib\\site-packages\\deap\\creator.py:141: RuntimeWarning: A class named 'Strategy' has already been created and it will be overwritten. Consider deleting previous creation of that class or rename it.\n",
      "  RuntimeWarning)\n"
     ]
    }
   ],
   "source": [
    "#fitness is to be minimized, an individual is an array of doubles, a strategy is an array of doubles\n",
    "creator.create(\"FitnessMin\", base.Fitness, weights=(-1.0,))\n",
    "creator.create(\"Individual\", array.array, typecode=\"d\", fitness=creator.FitnessMin, strategy=None)\n",
    "creator.create(\"Strategy\", array.array, typecode=\"d\")"
   ]
  },
  {
   "cell_type": "markdown",
   "metadata": {},
   "source": [
    "### Function for Generating Individuals"
   ]
  },
  {
   "cell_type": "code",
   "execution_count": 139,
   "metadata": {},
   "outputs": [],
   "source": [
    "#generates object variables and strategy parameters for an individual\n",
    "def generateES(icls, scls):\n",
    "    ind = icls(random.uniform(-3, 3) for _ in range(1088))\n",
    "    ind.strategy = scls(random.uniform(.001, 3) for _ in range(1088))\n",
    "    return ind"
   ]
  },
  {
   "cell_type": "markdown",
   "metadata": {},
   "source": [
    "### Function for Ensuring Sigmas are Valid"
   ]
  },
  {
   "cell_type": "code",
   "execution_count": 140,
   "metadata": {},
   "outputs": [],
   "source": [
    "def checkStrategy(minstrategy):\n",
    "    def decorator(func):\n",
    "        def wrappper(*args, **kargs):\n",
    "            children = func(*args, **kargs)\n",
    "            for child in children:\n",
    "                for i, s in enumerate(child.strategy):\n",
    "                    if s < minstrategy:\n",
    "                        child.strategy[i] = minstrategy\n",
    "            return children\n",
    "        return wrappper\n",
    "    return decorator"
   ]
  },
  {
   "cell_type": "markdown",
   "metadata": {},
   "source": [
    "### Toolbox"
   ]
  },
  {
   "cell_type": "code",
   "execution_count": 141,
   "metadata": {},
   "outputs": [],
   "source": [
    "toolbox = base.Toolbox()\n",
    "toolbox.register(\"individual\", generateES, creator.Individual, creator.Strategy)\n",
    "toolbox.register(\"population\", tools.initRepeat, list, toolbox.individual)\n",
    "#two point crossover on both individuals and their strategies\n",
    "toolbox.register(\"mate\", tools.cxESTwoPoint)\n",
    "toolbox.register(\"mutate\", tools.mutESLogNormal, c=1.0, indpb=0.03)\n",
    "toolbox.register(\"select\", tools.selTournament, tournsize=3)\n",
    "toolbox.register(\"evaluate\", evalNN)\n",
    "\n",
    "toolbox.decorate(\"mate\", checkStrategy(.01))\n",
    "toolbox.decorate(\"mutate\", checkStrategy(.01))"
   ]
  },
  {
   "cell_type": "markdown",
   "metadata": {},
   "source": [
    "### Run the Algorithm"
   ]
  },
  {
   "cell_type": "code",
   "execution_count": 142,
   "metadata": {},
   "outputs": [
    {
     "name": "stdout",
     "output_type": "stream",
     "text": [
      "gen\tnevals\n",
      "0  \t100   \n",
      "1  \t228   \n",
      "2  \t217   \n",
      "3  \t219   \n",
      "4  \t231   \n",
      "5  \t226   \n",
      "6  \t221   \n",
      "7  \t221   \n",
      "8  \t220   \n",
      "9  \t225   \n",
      "10 \t226   \n",
      "11 \t222   \n",
      "12 \t218   \n",
      "13 \t229   \n",
      "14 \t223   \n",
      "15 \t223   \n",
      "16 \t221   \n",
      "17 \t226   \n",
      "18 \t225   \n",
      "19 \t226   \n",
      "20 \t223   \n"
     ]
    }
   ],
   "source": [
    "pop = toolbox.population(100)\n",
    "HOF = tools.HallOfFame(1)\n",
    "\n",
    "pop, logbook = algorithms.eaMuCommaLambda(pop, toolbox, mu=100, lambda_=250, \n",
    "    cxpb=0.6, mutpb=0.3, ngen=20, halloffame=HOF)"
   ]
  },
  {
   "cell_type": "code",
   "execution_count": 143,
   "metadata": {},
   "outputs": [
    {
     "name": "stdout",
     "output_type": "stream",
     "text": [
      "5.741582144462124\n",
      "-7.71054071500519\n"
     ]
    },
    {
     "data": {
      "text/plain": [
       "(6.931020919272436,)"
      ]
     },
     "execution_count": 143,
     "metadata": {},
     "output_type": "execute_result"
    }
   ],
   "source": [
    "print (max(HOF.items[0]))\n",
    "print (min(HOF.items[0]))\n",
    "evalNN(HOF.items[0])"
   ]
  },
  {
   "cell_type": "code",
   "execution_count": null,
   "metadata": {},
   "outputs": [],
   "source": []
  },
  {
   "cell_type": "code",
   "execution_count": null,
   "metadata": {},
   "outputs": [],
   "source": []
  }
 ],
 "metadata": {
  "kernelspec": {
   "display_name": "Python 3",
   "language": "python",
   "name": "python3"
  },
  "language_info": {
   "codemirror_mode": {
    "name": "ipython",
    "version": 3
   },
   "file_extension": ".py",
   "mimetype": "text/x-python",
   "name": "python",
   "nbconvert_exporter": "python",
   "pygments_lexer": "ipython3",
   "version": "3.6.5"
  }
 },
 "nbformat": 4,
 "nbformat_minor": 2
}
